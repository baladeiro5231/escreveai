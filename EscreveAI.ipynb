{
  "nbformat": 4,
  "nbformat_minor": 0,
  "metadata": {
    "colab": {
      "provenance": [],
      "authorship_tag": "ABX9TyOGHrBb8kVicGZ9ji2dtArD",
      "include_colab_link": true
    },
    "kernelspec": {
      "name": "python3",
      "display_name": "Python 3"
    },
    "language_info": {
      "name": "python"
    }
  },
  "cells": [
    {
      "cell_type": "markdown",
      "metadata": {
        "id": "view-in-github",
        "colab_type": "text"
      },
      "source": [
        "<a href=\"https://colab.research.google.com/github/baladeiro5231/escreveai/blob/main/EscreveAI.ipynb\" target=\"_parent\"><img src=\"https://colab.research.google.com/assets/colab-badge.svg\" alt=\"Open In Colab\"/></a>"
      ]
    },
    {
      "cell_type": "code",
      "source": [],
      "metadata": {
        "id": "HuiV8ChlbBUZ"
      },
      "execution_count": null,
      "outputs": []
    },
    {
      "cell_type": "code",
      "source": [
        "%pip -q install google-genai"
      ],
      "metadata": {
        "id": "UCCbECexLk_h"
      },
      "execution_count": null,
      "outputs": []
    },
    {
      "cell_type": "code",
      "source": [
        "# Configura a API Key do Google Gemini\n",
        "\n",
        "import os\n",
        "from google.colab import userdata\n",
        "\n",
        "os.environ[\"GOOGLE_API_KEY\"] = userdata.get('GOOGLE_API_KEY')"
      ],
      "metadata": {
        "id": "NfCqHo1tLk8P"
      },
      "execution_count": null,
      "outputs": []
    },
    {
      "cell_type": "code",
      "source": [
        "# Configura o cliente da SDK do Gemini\n",
        "\n",
        "from google import genai\n",
        "\n",
        "client = genai.Client()\n",
        "\n",
        "MODEL_ID = \"gemini-2.0-flash\""
      ],
      "metadata": {
        "id": "bV4w0H5TLk5g"
      },
      "execution_count": null,
      "outputs": []
    },
    {
      "cell_type": "code",
      "source": [
        "# Pergunta ao Gemini uma informação mais recente que seu conhecimento\n",
        "\n",
        "from IPython.display import HTML, Markdown\n",
        "\n",
        "# Perguntar pro modelo quando é a próxima imersão de IA ###############################################\n",
        "resposta = client.models.generate_content(\n",
        "    model=MODEL_ID,\n",
        "    contents='Quando é a próxima Imersão IA com Google Gemini da Alura?',\n",
        ")\n",
        "\n",
        "# Exibe a resposta na tela\n",
        "display(Markdown(f\"Response:\\n {resposta.text}\"))"
      ],
      "metadata": {
        "colab": {
          "base_uri": "https://localhost:8080/",
          "height": 180
        },
        "id": "Y9cBAz02xZt9",
        "outputId": "dc7be231-95b4-4470-c642-4eab84669bb4",
        "collapsed": true
      },
      "execution_count": null,
      "outputs": [
        {
          "output_type": "display_data",
          "data": {
            "text/plain": [
              "<IPython.core.display.Markdown object>"
            ],
            "text/markdown": "Response:\n A Alura ainda não divulgou as datas da próxima Imersão IA com Google Gemini. A forma mais garantida de saber quando a próxima edição será realizada é:\n\n*   **Acompanhar a página oficial da Alura:** Verifique regularmente a página da Alura (alura.com.br) ou a seção de cursos de IA para anúncios sobre novas turmas ou edições da Imersão IA com Google Gemini.\n*   **Seguir as redes sociais da Alura:** A Alura geralmente anuncia novas edições de cursos e imersões em suas redes sociais (LinkedIn, Instagram, etc.).\n*   **Assinar a newsletter da Alura:** Ao assinar a newsletter, você receberá informações sobre lançamentos de cursos, eventos e imersões diretamente no seu e-mail.\n\nDessa forma, você ficará sabendo em primeira mão quando a próxima Imersão IA com Google Gemini será oferecida."
          },
          "metadata": {}
        }
      ]
    },
    {
      "cell_type": "code",
      "source": [
        "# Pergunta ao Gemini uma informação utilizando a busca do Google como contexto\n",
        "\n",
        "response = client.models.generate_content(\n",
        "    model=MODEL_ID,\n",
        "    contents='Quando é a próxima Imersão IA com Google Gemini da Alura?',\n",
        "    config={\"tools\": [{\"google_search\": {}}]}\n",
        ")\n",
        "\n",
        "# Exibe a resposta na tela\n",
        "display(Markdown(f\"Resposta:\\n {response.text}\"))"
      ],
      "metadata": {
        "colab": {
          "base_uri": "https://localhost:8080/"
        },
        "id": "lc2JPA92xbnp",
        "outputId": "e563b7b9-811f-4f2e-cd2a-0b7ebf2bfed8",
        "collapsed": true
      },
      "execution_count": null,
      "outputs": [
        {
          "output_type": "display_data",
          "data": {
            "text/plain": [
              "<IPython.core.display.Markdown object>"
            ],
            "text/markdown": "Resposta:\n A próxima Imersão IA com Google Gemini da Alura acontecerá entre os dias 12 e 16 de maio de 2025. As inscrições estão abertas até o dia 11 de maio. O curso é gratuito e tem como objetivo ensinar a criar projetos com o Gemini, o assistente de IA do Google. Não há pré-requisitos para participar.\n\nDurante a Imersão IA, você vai aprender a:\n\n*   Criar prompts eficazes\n*   Automatizar tarefas\n*   Desenvolver seu próprio chatbot com o Google AI Studio e a API Gemini\n*   Criar um sistema básico para executar tarefas pessoais com Multi-agentes com ADK\n\nAo final do curso, você receberá um certificado Alura + Google."
          },
          "metadata": {}
        }
      ]
    },
    {
      "cell_type": "code",
      "source": [
        "# Exibe a busca\n",
        "print(f\"Busca realizada: {response.candidates[0].grounding_metadata.web_search_queries}\")\n",
        "# Exibe as URLs nas quais ele se baseou\n",
        "print(f\"Páginas utilizadas na resposta: {', '.join([site.web.title for site in response.candidates[0].grounding_metadata.grounding_chunks])}\")\n",
        "print()\n",
        "display(HTML(response.candidates[0].grounding_metadata.search_entry_point.rendered_content))"
      ],
      "metadata": {
        "colab": {
          "base_uri": "https://localhost:8080/",
          "height": 121
        },
        "id": "6Cg0KNJGMgC5",
        "outputId": "7819dc19-b018-4e9d-847f-a6a733857404",
        "collapsed": true
      },
      "execution_count": null,
      "outputs": [
        {
          "output_type": "stream",
          "name": "stdout",
          "text": [
            "Busca realizada: ['Alura Imersão IA com Google Gemini data']\n",
            "Páginas utilizadas na resposta: tecmundo.com.br, alura.com.br\n",
            "\n"
          ]
        },
        {
          "output_type": "display_data",
          "data": {
            "text/plain": [
              "<IPython.core.display.HTML object>"
            ],
            "text/html": [
              "<style>\n",
              ".container {\n",
              "  align-items: center;\n",
              "  border-radius: 8px;\n",
              "  display: flex;\n",
              "  font-family: Google Sans, Roboto, sans-serif;\n",
              "  font-size: 14px;\n",
              "  line-height: 20px;\n",
              "  padding: 8px 12px;\n",
              "}\n",
              ".chip {\n",
              "  display: inline-block;\n",
              "  border: solid 1px;\n",
              "  border-radius: 16px;\n",
              "  min-width: 14px;\n",
              "  padding: 5px 16px;\n",
              "  text-align: center;\n",
              "  user-select: none;\n",
              "  margin: 0 8px;\n",
              "  -webkit-tap-highlight-color: transparent;\n",
              "}\n",
              ".carousel {\n",
              "  overflow: auto;\n",
              "  scrollbar-width: none;\n",
              "  white-space: nowrap;\n",
              "  margin-right: -12px;\n",
              "}\n",
              ".headline {\n",
              "  display: flex;\n",
              "  margin-right: 4px;\n",
              "}\n",
              ".gradient-container {\n",
              "  position: relative;\n",
              "}\n",
              ".gradient {\n",
              "  position: absolute;\n",
              "  transform: translate(3px, -9px);\n",
              "  height: 36px;\n",
              "  width: 9px;\n",
              "}\n",
              "@media (prefers-color-scheme: light) {\n",
              "  .container {\n",
              "    background-color: #fafafa;\n",
              "    box-shadow: 0 0 0 1px #0000000f;\n",
              "  }\n",
              "  .headline-label {\n",
              "    color: #1f1f1f;\n",
              "  }\n",
              "  .chip {\n",
              "    background-color: #ffffff;\n",
              "    border-color: #d2d2d2;\n",
              "    color: #5e5e5e;\n",
              "    text-decoration: none;\n",
              "  }\n",
              "  .chip:hover {\n",
              "    background-color: #f2f2f2;\n",
              "  }\n",
              "  .chip:focus {\n",
              "    background-color: #f2f2f2;\n",
              "  }\n",
              "  .chip:active {\n",
              "    background-color: #d8d8d8;\n",
              "    border-color: #b6b6b6;\n",
              "  }\n",
              "  .logo-dark {\n",
              "    display: none;\n",
              "  }\n",
              "  .gradient {\n",
              "    background: linear-gradient(90deg, #fafafa 15%, #fafafa00 100%);\n",
              "  }\n",
              "}\n",
              "@media (prefers-color-scheme: dark) {\n",
              "  .container {\n",
              "    background-color: #1f1f1f;\n",
              "    box-shadow: 0 0 0 1px #ffffff26;\n",
              "  }\n",
              "  .headline-label {\n",
              "    color: #fff;\n",
              "  }\n",
              "  .chip {\n",
              "    background-color: #2c2c2c;\n",
              "    border-color: #3c4043;\n",
              "    color: #fff;\n",
              "    text-decoration: none;\n",
              "  }\n",
              "  .chip:hover {\n",
              "    background-color: #353536;\n",
              "  }\n",
              "  .chip:focus {\n",
              "    background-color: #353536;\n",
              "  }\n",
              "  .chip:active {\n",
              "    background-color: #464849;\n",
              "    border-color: #53575b;\n",
              "  }\n",
              "  .logo-light {\n",
              "    display: none;\n",
              "  }\n",
              "  .gradient {\n",
              "    background: linear-gradient(90deg, #1f1f1f 15%, #1f1f1f00 100%);\n",
              "  }\n",
              "}\n",
              "</style>\n",
              "<div class=\"container\">\n",
              "  <div class=\"headline\">\n",
              "    <svg class=\"logo-light\" width=\"18\" height=\"18\" viewBox=\"9 9 35 35\" fill=\"none\" xmlns=\"http://www.w3.org/2000/svg\">\n",
              "      <path fill-rule=\"evenodd\" clip-rule=\"evenodd\" d=\"M42.8622 27.0064C42.8622 25.7839 42.7525 24.6084 42.5487 23.4799H26.3109V30.1568H35.5897C35.1821 32.3041 33.9596 34.1222 32.1258 35.3448V39.6864H37.7213C40.9814 36.677 42.8622 32.2571 42.8622 27.0064V27.0064Z\" fill=\"#4285F4\"/>\n",
              "      <path fill-rule=\"evenodd\" clip-rule=\"evenodd\" d=\"M26.3109 43.8555C30.9659 43.8555 34.8687 42.3195 37.7213 39.6863L32.1258 35.3447C30.5898 36.3792 28.6306 37.0061 26.3109 37.0061C21.8282 37.0061 18.0195 33.9811 16.6559 29.906H10.9194V34.3573C13.7563 39.9841 19.5712 43.8555 26.3109 43.8555V43.8555Z\" fill=\"#34A853\"/>\n",
              "      <path fill-rule=\"evenodd\" clip-rule=\"evenodd\" d=\"M16.6559 29.8904C16.3111 28.8559 16.1074 27.7588 16.1074 26.6146C16.1074 25.4704 16.3111 24.3733 16.6559 23.3388V18.8875H10.9194C9.74388 21.2072 9.06992 23.8247 9.06992 26.6146C9.06992 29.4045 9.74388 32.022 10.9194 34.3417L15.3864 30.8621L16.6559 29.8904V29.8904Z\" fill=\"#FBBC05\"/>\n",
              "      <path fill-rule=\"evenodd\" clip-rule=\"evenodd\" d=\"M26.3109 16.2386C28.85 16.2386 31.107 17.1164 32.9095 18.8091L37.8466 13.8719C34.853 11.082 30.9659 9.3736 26.3109 9.3736C19.5712 9.3736 13.7563 13.245 10.9194 18.8875L16.6559 23.3388C18.0195 19.2636 21.8282 16.2386 26.3109 16.2386V16.2386Z\" fill=\"#EA4335\"/>\n",
              "    </svg>\n",
              "    <svg class=\"logo-dark\" width=\"18\" height=\"18\" viewBox=\"0 0 48 48\" xmlns=\"http://www.w3.org/2000/svg\">\n",
              "      <circle cx=\"24\" cy=\"23\" fill=\"#FFF\" r=\"22\"/>\n",
              "      <path d=\"M33.76 34.26c2.75-2.56 4.49-6.37 4.49-11.26 0-.89-.08-1.84-.29-3H24.01v5.99h8.03c-.4 2.02-1.5 3.56-3.07 4.56v.75l3.91 2.97h.88z\" fill=\"#4285F4\"/>\n",
              "      <path d=\"M15.58 25.77A8.845 8.845 0 0 0 24 31.86c1.92 0 3.62-.46 4.97-1.31l4.79 3.71C31.14 36.7 27.65 38 24 38c-5.93 0-11.01-3.4-13.45-8.36l.17-1.01 4.06-2.85h.8z\" fill=\"#34A853\"/>\n",
              "      <path d=\"M15.59 20.21a8.864 8.864 0 0 0 0 5.58l-5.03 3.86c-.98-2-1.53-4.25-1.53-6.64 0-2.39.55-4.64 1.53-6.64l1-.22 3.81 2.98.22 1.08z\" fill=\"#FBBC05\"/>\n",
              "      <path d=\"M24 14.14c2.11 0 4.02.75 5.52 1.98l4.36-4.36C31.22 9.43 27.81 8 24 8c-5.93 0-11.01 3.4-13.45 8.36l5.03 3.85A8.86 8.86 0 0 1 24 14.14z\" fill=\"#EA4335\"/>\n",
              "    </svg>\n",
              "    <div class=\"gradient-container\"><div class=\"gradient\"></div></div>\n",
              "  </div>\n",
              "  <div class=\"carousel\">\n",
              "    <a class=\"chip\" href=\"https://vertexaisearch.cloud.google.com/grounding-api-redirect/AbF9wXGuDsnS6QChlx56dOCqxtMPLmREzB-E4nWzgg_C3qszgGs6D1x6ZWAEwQQVlFMCAaEgmJiOewE23vZqHogUC8fTBjKye5EZLix6Uz9lp8HJCnlpR6oUd5idhfyhVxHzWEesKrcpeo_TPNwXnxbejl-vfVQRqJjmm7nfNIgQKTMuXeG5s8xw0bPQI7f4r-X5rqJGO0vXtgIsJA7Al2dlJjrx2zpsRwgUv605cRrmb2qT\">Alura Imersão IA com Google Gemini data</a>\n",
              "  </div>\n",
              "</div>\n"
            ]
          },
          "metadata": {}
        }
      ]
    },
    {
      "cell_type": "code",
      "source": [
        "# Instalar Framework de agentes do Google ################################################\n",
        "!pip install -q google-adk"
      ],
      "metadata": {
        "colab": {
          "base_uri": "https://localhost:8080/"
        },
        "id": "a1eRPalxEnj7",
        "outputId": "6f003fb3-c6b3-4bca-99dc-e943cf412824",
        "collapsed": true
      },
      "execution_count": null,
      "outputs": [
        {
          "output_type": "stream",
          "name": "stdout",
          "text": [
            "\u001b[2K   \u001b[90m━━━━━━━━━━━━━━━━━━━━━━━━━━━━━━━━━━━━━━━━\u001b[0m \u001b[32m1.2/1.2 MB\u001b[0m \u001b[31m16.0 MB/s\u001b[0m eta \u001b[36m0:00:00\u001b[0m\n",
            "\u001b[2K   \u001b[90m━━━━━━━━━━━━━━━━━━━━━━━━━━━━━━━━━━━━━━━━\u001b[0m \u001b[32m232.1/232.1 kB\u001b[0m \u001b[31m13.1 MB/s\u001b[0m eta \u001b[36m0:00:00\u001b[0m\n",
            "\u001b[2K   \u001b[90m━━━━━━━━━━━━━━━━━━━━━━━━━━━━━━━━━━━━━━━━\u001b[0m \u001b[32m95.2/95.2 kB\u001b[0m \u001b[31m6.2 MB/s\u001b[0m eta \u001b[36m0:00:00\u001b[0m\n",
            "\u001b[2K   \u001b[90m━━━━━━━━━━━━━━━━━━━━━━━━━━━━━━━━━━━━━━━━\u001b[0m \u001b[32m217.1/217.1 kB\u001b[0m \u001b[31m12.7 MB/s\u001b[0m eta \u001b[36m0:00:00\u001b[0m\n",
            "\u001b[2K   \u001b[90m━━━━━━━━━━━━━━━━━━━━━━━━━━━━━━━━━━━━━━━━\u001b[0m \u001b[32m334.1/334.1 kB\u001b[0m \u001b[31m17.5 MB/s\u001b[0m eta \u001b[36m0:00:00\u001b[0m\n",
            "\u001b[2K   \u001b[90m━━━━━━━━━━━━━━━━━━━━━━━━━━━━━━━━━━━━━━━━\u001b[0m \u001b[32m125.1/125.1 kB\u001b[0m \u001b[31m7.8 MB/s\u001b[0m eta \u001b[36m0:00:00\u001b[0m\n",
            "\u001b[2K   \u001b[90m━━━━━━━━━━━━━━━━━━━━━━━━━━━━━━━━━━━━━━━━\u001b[0m \u001b[32m65.8/65.8 kB\u001b[0m \u001b[31m4.2 MB/s\u001b[0m eta \u001b[36m0:00:00\u001b[0m\n",
            "\u001b[2K   \u001b[90m━━━━━━━━━━━━━━━━━━━━━━━━━━━━━━━━━━━━━━━━\u001b[0m \u001b[32m119.0/119.0 kB\u001b[0m \u001b[31m6.5 MB/s\u001b[0m eta \u001b[36m0:00:00\u001b[0m\n",
            "\u001b[2K   \u001b[90m━━━━━━━━━━━━━━━━━━━━━━━━━━━━━━━━━━━━━━━━\u001b[0m \u001b[32m194.9/194.9 kB\u001b[0m \u001b[31m12.4 MB/s\u001b[0m eta \u001b[36m0:00:00\u001b[0m\n",
            "\u001b[2K   \u001b[90m━━━━━━━━━━━━━━━━━━━━━━━━━━━━━━━━━━━━━━━━\u001b[0m \u001b[32m62.5/62.5 kB\u001b[0m \u001b[31m4.3 MB/s\u001b[0m eta \u001b[36m0:00:00\u001b[0m\n",
            "\u001b[2K   \u001b[90m━━━━━━━━━━━━━━━━━━━━━━━━━━━━━━━━━━━━━━━━\u001b[0m \u001b[32m103.3/103.3 kB\u001b[0m \u001b[31m5.4 MB/s\u001b[0m eta \u001b[36m0:00:00\u001b[0m\n",
            "\u001b[2K   \u001b[90m━━━━━━━━━━━━━━━━━━━━━━━━━━━━━━━━━━━━━━━━\u001b[0m \u001b[32m44.4/44.4 kB\u001b[0m \u001b[31m3.0 MB/s\u001b[0m eta \u001b[36m0:00:00\u001b[0m\n",
            "\u001b[2K   \u001b[90m━━━━━━━━━━━━━━━━━━━━━━━━━━━━━━━━━━━━━━━━\u001b[0m \u001b[32m72.0/72.0 kB\u001b[0m \u001b[31m4.4 MB/s\u001b[0m eta \u001b[36m0:00:00\u001b[0m\n",
            "\u001b[?25h"
          ]
        }
      ]
    },
    {
      "cell_type": "code",
      "execution_count": null,
      "metadata": {
        "id": "aePV2bdfDeoW"
      },
      "outputs": [],
      "source": [
        "from google.adk.agents import Agent\n",
        "from google.adk.runners import Runner\n",
        "from google.adk.sessions import InMemorySessionService\n",
        "from google.adk.tools import google_search\n",
        "from google.genai import types  # Para criar conteúdos (Content e Part)\n",
        "from datetime import date\n",
        "import textwrap # Para formatar melhor a saída de texto\n",
        "from IPython.display import display, Markdown # Para exibir texto formatado no Colab\n",
        "import requests # Para fazer requisições HTTP\n",
        "import warnings\n",
        "\n",
        "warnings.filterwarnings(\"ignore\")"
      ]
    },
    {
      "cell_type": "code",
      "source": [
        "# Função auxiliar que envia uma mensagem para um agente via Runner e retorna a resposta final\n",
        "def call_agent(agent: Agent, message_text: str) -> str:\n",
        "    # Cria um serviço de sessão em memória\n",
        "    session_service = InMemorySessionService()\n",
        "    # Cria uma nova sessão (você pode personalizar os IDs conforme necessário)\n",
        "    session = session_service.create_session(app_name=agent.name, user_id=\"user1\", session_id=\"session1\")\n",
        "    # Cria um Runner para o agente\n",
        "    runner = Runner(agent=agent, app_name=agent.name, session_service=session_service)\n",
        "    # Cria o conteúdo da mensagem de entrada\n",
        "    content = types.Content(role=\"user\", parts=[types.Part(text=message_text)])\n",
        "\n",
        "    final_response = \"\"\n",
        "    # Itera assincronamente pelos eventos retornados durante a execução do agente\n",
        "    for event in runner.run(user_id=\"user1\", session_id=\"session1\", new_message=content):\n",
        "        if event.is_final_response():\n",
        "          for part in event.content.parts:\n",
        "            if part.text is not None:\n",
        "              final_response += part.text\n",
        "              final_response += \"\\n\"\n",
        "    return final_response"
      ],
      "metadata": {
        "id": "_xP4lWhsS5ko"
      },
      "execution_count": null,
      "outputs": []
    },
    {
      "cell_type": "code",
      "source": [
        "# Função auxiliar para exibir texto formatado em Markdown no Colab\n",
        "def to_markdown(text):\n",
        "  text = text.replace('•', '  *')\n",
        "  return Markdown(textwrap.indent(text, '> ', predicate=lambda _: True))"
      ],
      "metadata": {
        "id": "8dosiodaxfFR"
      },
      "execution_count": null,
      "outputs": []
    },
    {
      "cell_type": "code",
      "source": [
        "\n",
        "##########################################\n",
        "# --- Agente 1: Buscador de Notícias --- #\n",
        "##########################################\n",
        "def agente_buscador(topico, data_de_hoje):\n",
        "\n",
        "    buscador = Agent(\n",
        "        name=\"agente_buscador\",\n",
        "        model=\"gemini-2.0-flash\",\n",
        "        instruction=\"\"\"\n",
        "        encontrar e refinar a centelha inicial da história,\n",
        "        fornecendo um vasto leque de referências e estímulos criativos.\n",
        "        O usuário fornece um tema, gênero, uma imagem, uma música,\n",
        "        um personagem vago ou qualquer ponto de partida.\n",
        "        passo\" \"Busca Ampla de Referências\",\n",
        "        detalhes\":Com base na entrada, buscar:\n",
        "        Visuais: Artes conceituais, fotografias de locais (reais ou fictícios),\n",
        "        paletas de cores, design de figurinos, arquitetura relevante ao tema/gênero.\n",
        "        Narrativas: Sinopses de livros, filmes, séries, jogos com temas ou estruturas semelhantes ao que o usuário escolheu de tema\n",
        "        Arquétipos de personagens comuns. Mitologias, lendas e fatos históricos relacionados.\n",
        "        Sonoras: Tipos de música, trilhas sonoras ou artistas que evocam o clima/atmosfera desejada.\n",
        "\n",
        "        Conceituais: Artigos sobre os temas centrais da ideia (ex: se for sobre viagem no tempo,\n",
        "        artigos sobre teorias; se for fantasia medieval, sobre costumes da época).\n",
        "        passo\" \"Identificação de Elementos-Chave\",\n",
        "        detalhes: Analisar as referências e destacar 2-3 conceitos, imagens ou ideias mais fortes\"\n",
        "        e recorrentes que podem servir como pilares iniciais.\"\n",
        "\n",
        "        Um 'mood board' digital com links para as referências mais impactantes (visuais, sonoras, textuais).\",\n",
        "        Um breve resumo dos temas e conceitos mais promissores identificados.\",\n",
        "        entregar ao usuário a pensar sobre a direção inicial da história\"\n",
        "        ex: Qual desses ambientes te inspira mais para o início da sua história\",\n",
        "        crie um  tipo de conflito referente as refêrncias que você achou você imagina surgindo a partir deste tema e converse com tudo que você já criou\"\"\",\n",
        "\n",
        "        tools=[google_search]\n",
        "     )\n",
        "\n",
        "\n",
        "    entrada_do_agente_buscador = f\"Tópico: {topico}\\nData de hoje: {data_de_hoje}\"\n",
        "\n",
        "    lancamentos = call_agent(buscador, entrada_do_agente_buscador)\n",
        "    return lancamentos\n"
      ],
      "metadata": {
        "id": "o8bqIfi_DyH8"
      },
      "execution_count": null,
      "outputs": []
    },
    {
      "cell_type": "code",
      "source": [
        "################################################\n",
        "# --- Agente 2: Planejador de posts --- #\n",
        "################################################\n",
        "def agente_planejador(topico, lancamentos_buscados):\n",
        "    planejador = Agent(\n",
        "        name=\"agente_planejador\",\n",
        "        model=\"gemini-2.0-flash\",\n",
        "        # Inserir as instruções do Agente Planejador #################################################\n",
        "        instruction=\"\"\"\n",
        "            funcao_principal\": a construir o universo da história e a dar vida aos personagens principais,\n",
        "            com base nas inspirações do Agente 1 e na escolha principal do usuário.\"\",\n",
        "\n",
        "            a partir da saída do Agente 1,\n",
        "            e respostas às perguntas estimulantes.,\n",
        "            acao_agente\": \"Desenvolvimento do Ambiente (Worldbuilding)'':\n",
        "            Aprofundamento em Referências: Com base nas escolhas do agente 1\"\n",
        "            buscar mais detalhes: arquitetura específica, tecnologias predominantes, organização social, clima detalhado, época do ano.\n",
        "            Definição de Regras: Ajudar a estabelecer as regras básicas do mundo ('físicas, mágicas, sociais, tecnológicas).\n",
        "            Criação de Locais Chave: Esboçar 2-3 locais importantes onde a história pode se desenrolar,\n",
        "            com descrições sensoriais e referências visuais específicas.\n",
        "            Criação de Personagens:\n",
        "            Protagonistas:'\n",
        "            Perfil Básico: Nome, idade aproximada, ocupação/papel no mundo refente ao tema ou que faça sentido com o a ideia do agente 1\n",
        "            Referências Visuais Específicas: Buscar imagens de pessoas reais ou personagens\n",
        "            fictícios que se alinhem com a descrição emergente.\n",
        "            Personalidade Inicial: Com base nas referências e no tema, sugerir 2-3\n",
        "            traços de personalidade centrais.\n",
        "            Motivação/Desejo Inicial: Defenir os  objetivos primários dos protagonistas no início da história.\n",
        "            Antagonista e Aliados Chave,  se já vislumbrados: Repetir o processo de forma mais simplificada.\n",
        "            Integração Personagem-Ambiente:\n",
        "\n",
        "            saida_para_usuario: Um documento descritivo do ambiente: Nome do mundo/local, época, estação do ano,\n",
        "            características principais, regras básicas, descrição de locais chave com\n",
        "            referências visuais e sonoras.\n",
        "            crie Fichas preliminares dos personagens principais: Nome, perfil, referências visuais,\n",
        "            traços de personalidade, motivação inicial, e como se encaixam no mundo.\n",
        "            Sugestões de \"práticas\" \"Tente descrever um dia típico do seu protagonista neste ambiente.\n",
        "            ou \"Quais são os maiores desafios que este personagem enfrentaria neste lugar? crie uma resposta a essa pergunta responda em pelo menos 5 parágrafos\n",
        "            \"\"\",\n",
        "\n",
        "\n",
        "            description=\"FOCAR NA IDEIA APRESENTADA pelo agente 1\",\n",
        "            tools=[google_search]\n",
        "\n",
        "    )\n",
        "\n",
        "    entrada_do_agente_planejador = f\"Tópico:{topico}\\nLançamentos buscados: {lancamentos_buscados}\"\n",
        "    # Executa o agente\n",
        "    plano_do_post = call_agent(planejador, entrada_do_agente_planejador)\n",
        "    return plano_do_post"
      ],
      "metadata": {
        "id": "y3VO1uo5_ghO"
      },
      "execution_count": null,
      "outputs": []
    },
    {
      "cell_type": "code",
      "source": [
        "######################################\n",
        "# --- Agente 3: Redator do Post --- #\n",
        "######################################\n",
        "def agente_redator(topico, plano_de_post):\n",
        "    redator = Agent(\n",
        "        name=\"agente_redator\",\n",
        "        model=\"gemini-2.0-flash\",\n",
        "        instruction=\"\"\"\n",
        "           funcao_principal\": refinar toda as idéias do agente 1, com isso criar o mundo e em uma estrutura narrativa coesa,\n",
        "           definindo o enredo principal, conflitos e pontos de virada,\n",
        "           crie no mínimo 20 páginas de conteúdo baseado em tudo que você já criou até agora.\n",
        "           Todas as páginas devem estar cheias de detalhes da cena de pelo menos 5 parágrafos cada página, tem que ter uma pequenos comentários explicando o porque você você decidiu fazer isso.\n",
        "           nessa história todas as decisões dos personagens tem qu efazer sentido com todo o plano já criado pelos dois agentes anteriores\n",
        "           Deve ser um roteiro claro, coeso, com falas quando necessário\n",
        "           nporém tem que ter coesão com o tema escolhido pelo usuário e ter coesão com as informações criadas para o plano dos agentes 1 e 2\n",
        "\n",
        "            \"\"\",\n",
        "        description=\"Agente redator de posts engajadores para Instagram\"\n",
        "    )\n",
        "    entrada_do_agente_redator = f\"Tópico: {topico}\\nPlano de post: {plano_de_post}\"\n",
        "    # Executa o agente\n",
        "    rascunho = call_agent(redator, entrada_do_agente_redator)\n",
        "    return rascunho"
      ],
      "metadata": {
        "id": "uOqlg2TRLVh1"
      },
      "execution_count": null,
      "outputs": []
    },
    {
      "cell_type": "code",
      "source": [
        "##########################################\n",
        "# --- Agente 4: Revisor de Qualidade --- #\n",
        "##########################################\n",
        "def agente_revisor(topico, rascunho_gerado):\n",
        "    revisor = Agent(\n",
        "        name=\"agente_revisor\",\n",
        "        model=\"gemini-2.0-flash\",\n",
        "        instruction=\"\"\"\n",
        "           funcao_principal\": Revisar o plano da história (mundo, personagens, enredo e roteiro geral) para garantir clareza, coesão, consistência e impacto, oferecendo sugestões\n",
        "           para um roteiro \"minimamente publicável\" (no sentido de estar pronto para\n",
        "           ser escrito em prosa ou formato de roteiro final)\n",
        "\n",
        "           modus_operandi_adaptado\": {\n",
        "           entrada_usuario\": O plano completo da história, incluindo as descrições de mundo,\n",
        "           fichas de personagem e o roteiro geral/outline produzido com o Agente 3.,\n",
        "           acao_agente\": \"Análise de Clareza e Coesão:\n",
        "           O enredo é fácil de seguir?\n",
        "           As motivações dos personagens são claras?\n",
        "           As informações cruciais são apresentadas no momento certo?\n",
        "           O começo, meio e fim estão bem conectados?\n",
        "\n",
        "           Consistência Interna:\n",
        "           As regras do mundo são respeitadas ao longo da trama?\n",
        "           Os personagens agem de acordo com suas personalidades e históricos estabelecidos?\n",
        "           Existem furos de roteiro (plot holes) óbvios?\n",
        "\n",
        "           Desenvolvimento de Personagem:\n",
        "           Os arcos dos personagens principais são perceptíveis e significativos?\n",
        "           Eles mudam ou aprendem algo?\n",
        "\n",
        "           Ritmo e Tensão:\n",
        "           O roteiro geral sugere um bom equilíbrio entre momentos de ação, desenvolvimento e calmaria?\n",
        "           Os pontos de virada e o clímax têm o impacto desejado?\n",
        "\n",
        "           Verificação de Informações Cruciais e Gerais:\n",
        "           Todos os elementos importantes definidos anteriormente (ambiente, tempo, época do ano,\n",
        "           personalidades) estão refletidos ou implícitos no roteiro geral?\n",
        "           As informações gerais sobre os personagens são suficientes para entender suas ações?\n",
        "\n",
        "           Qualidade 'Minimamente Publicável':\n",
        "           O plano é sólido o suficiente para que alguém possa pegar esse material e\n",
        "           começar a escrever a história em prosa ou em formato de roteiro profissional\n",
        "           sem grandes lacunas conceituais?,\n",
        "           saida_para_usuario\": { # Mantive esta parte como dicionário porque tem condições diferentes\n",
        "           se_plano_robusto\": \"Seu plano de história está muito bem estruturado e pronto para a próxima fase: a escrita!\n",
        "           Os elementos de mundo, personagem e enredo estão coesos e promissores.\n",
        "           caso_haja_problemas\": \"\"Apontar especificamente as áreas que precisam de melhoria\n",
        "           (ex: \"A motivação do antagonista no Ato 2 parece um pouco vaga.\n",
        "           Que tal explorar [referência X] ou pensar sobre [pergunta Y]?\").\n",
        "\n",
        "           Sugerir revisões no roteiro geral, como reordenar cenas,\n",
        "           adicionar momentos de reflexão para personagens, ou intensificar um conflito.\n",
        "\n",
        "           Oferecer referências de como outras histórias resolveram problemas semelhantes de estrutura ou desenvolvimento de personagem.\n",
        "           propor_exercicios_revisao\": Releia o arco do seu protagonista. Ele realmente muda do começo ao fim?\n",
        "           Como você pode tornar essa mudança mais evidente no roteiro geral? com base em tu\n",
        "\n",
        "           \"\"\",\n",
        "        description=\"Agente revisor de textplanejamento,  e criação de roteiro\",\n",
        "        tools=[google_search]\n",
        ")\n",
        "    entrada_do_agente_revisor = f\"Tópico: {topico}\\nRascunho: {rascunho_gerado}\"\n",
        "    # Executa o agente\n",
        "    texto_revisado = call_agent(revisor, entrada_do_agente_revisor)\n",
        "    return texto_revisado"
      ],
      "metadata": {
        "id": "_aTb1SdkLeT6"
      },
      "execution_count": null,
      "outputs": []
    },
    {
      "cell_type": "code",
      "source": [],
      "metadata": {
        "id": "rLHZSGAyFTjC"
      },
      "execution_count": null,
      "outputs": []
    },
    {
      "cell_type": "code",
      "source": [
        "from decimal import Context\n",
        "# prompt: quero conversar com a ia\n",
        "\n",
        "\n",
        "def chat_com_agentes(topico):\n",
        "    data_atual = date.today().strftime(\"%d/%m/%Y\")\n",
        "\n",
        "    print(\"Iniciando busca de referências...\")\n",
        "    lancamentos = agente_buscador(topico, data_atual)\n",
        "    display(to_markdown(f\"**Referências encontradas:**\\n{lancamentos}\"))\n",
        "\n",
        "    print(\"\\nIniciando planejamento do post...\")\n",
        "    plano = agente_planejador(topico, lancamentos)\n",
        "    display(to_markdown(f\"**Plano de história:**\\n{plano}\"))\n",
        "\n",
        "    print(\"\\nGerando rascunho da história...\")\n",
        "    rascunho = agente_redator(topico, plano)\n",
        "    display(to_markdown(f\"**Rascunho da história:**\\n{rascunho}\"))\n",
        "\n",
        "    print(\"\\nRevisando a história...\")\n",
        "    texto_final = agente_revisor(topico, rascunho)\n",
        "    display(to_markdown(f\"**Revisão da história:**\\n{texto_final}\"))\n",
        "\n",
        "    contexto = \"\"\n",
        "\n",
        "    contexto += f\"**Referências encontradas:**\\n{lancamentos}\\n\"\n",
        "    contexto += f\"**Plano de história:**\\n{plano}\\n\"\n",
        "    contexto += f\"**Rascunho da história:**\\n{rascunho}\\n\"\n",
        "    contexto += f\"**Revisão da história:**\\n{texto_final}\\n\"\n",
        "    return contexto\n",
        "\n",
        "# Exemplo de uso:\n",
        "topico_da_historia = input(\"Digite o tópico da história que você quer criar: \")\n",
        "Context=chat_com_agentes(topico_da_historia)\n",
        "\n"
      ],
      "metadata": {
        "colab": {
          "base_uri": "https://localhost:8080/",
          "height": 1000
        },
        "collapsed": true,
        "outputId": "26cdbfd1-2bef-4017-dc95-88cfa5193e9d",
        "id": "w1oYg3AFFT2B"
      },
      "execution_count": null,
      "outputs": [
        {
          "output_type": "stream",
          "name": "stdout",
          "text": [
            "Digite o tópico da história que você quer criar: terror\n",
            "Iniciando busca de referências...\n"
          ]
        },
        {
          "output_type": "display_data",
          "data": {
            "text/plain": [
              "<IPython.core.display.Markdown object>"
            ],
            "text/markdown": "> **Referências encontradas:**\n> Para te ajudar a encontrar e refinar a centelha inicial da sua história de terror, vou realizar uma busca ampla de referências e identificar os elementos-chave.\n> \n> **Passo 1: Busca Ampla de Referências**\n> \n> Considerando o tema \"terror\", vou buscar por:\n> \n> *   **Visuais:** Artes conceituais de filmes de terror (clássicos e modernos), fotografias de locais que evocam medo (florestas densas, casas abandonadas, hospitais psiquiátricos), paletas de cores (tons escuros, contrastes fortes), design de criaturas e monstros.\n> *   **Narrativas:** Sinopses de livros, filmes, séries e jogos de terror, com foco em diferentes subgêneros (horror psicológico, slasher, sobrenatural, etc.). Arquétipos de personagens comuns em histórias de terror (a vítima, o monstro, o sobrevivente). Mitologias, lendas e fatos históricos relacionados ao terror (contos de fantasmas, possessões demoníacas, etc.).\n> *   **Sonoras:** Trilhas sonoras de filmes de terror, músicas que evocam tensão e suspense, sons ambientes assustadores (rangidos, sussurros, batidas).\n> *   **Conceituais:** Artigos sobre a psicologia do medo, a história do terror na literatura e no cinema, as diferentes formas de horror (gore, suspense, psicológico).\n> \n> **Passo 2: Identificação de Elementos-Chave**\n> \n> Após analisar as referências, vou destacar 2-3 conceitos, imagens ou ideias mais fortes e recorrentes que podem servir como pilares iniciais para sua história.\n> \n> Para começar, preciso de algumas buscas no Google:\n> \n> Com base nas buscas realizadas, aqui estão algumas ideias iniciais e referências que podem te inspirar:\n> \n> **1. O Horror Psicológico e a Sanidade:**\n> \n> *   **Conceito:** Explore a tênue linha entre a realidade e a ilusão, questionando a sanidade do protagonista. A dúvida sobre se os eventos são sobrenaturais ou fruto da imaginação pode gerar grande tensão.\n> *   **Referências:**\n>     *   **Livros:** \"Coração Satânico\" de William Hjorstberg, \"A Volta do Parafuso\" de Henry James e \"O Iluminado\" de Stephen King são ótimos exemplos de terror psicológico que exploram a mente humana e seus medos mais profundos.\n>     *   **Filmes:** \"O Bebê de Rosemary\".\n> *   **Possíveis conflitos:** O protagonista pode estar lidando com traumas passados, transtornos mentais ou uma realidade distorcida, o que o torna um alvo fácil para manipulações e horrores inexplicáveis.\n> \n> **2. Lendas Urbanas e Folclore:**\n> \n> *   **Conceito:** Utilize lendas urbanas ou mitos como base para a sua história, explorando o medo do desconhecido e as histórias que assombram a cultura popular.\n> *   **Referências:**\n>     *   **Lendas:** A lenda da La Llorona, Banshee, Kraken e outras criaturas folclóricas podem ser ótimas fontes de inspiração.\n>     *   **Filmes:** \"Kwaidan – As Quatro Faces do Medo\", que adapta contos folclóricos japoneses.\n> *   **Possíveis conflitos:** O protagonista pode se deparar com uma lenda urbana que se torna realidade, ser amaldiçoado por uma entidade folclórica ou ter que desvendar os segredos por trás de um mito antigo.\n> \n> **3. O Horror Cósmico e o Medo do Desconhecido:**\n> \n> *   **Conceito:** Inspire-se no horror cósmico de H.P. Lovecraft, explorando o medo do desconhecido, a insignificância da humanidade perante o universo e a existência de entidades superiores incompreensíveis.\n> *   **Referências:**\n>     *   **Livros:** As obras de H.P. Lovecraft são referências obrigatórias, como \"O Chamado de Cthulhu\".\n> *   **Possíveis conflitos:** O protagonista pode descobrir a existência de forças cósmicas que desafiam a compreensão humana, ser confrontado com a própria insignificância ou ter que lutar contra entidades ancestrais que ameaçam a realidade.\n> \n> **Mood Board:**\n> \n> *   **Visuais:**\n>     *   Imagens de casas abandonadas, florestas densas e hospitais psiquiátricos.\n>     *   Artes conceituais de filmes como \"O Exorcista\" e \"Sorria 2\".\n>     *   Paletas de cores com tons escuros, vermelhos intensos e contrastes marcantes.\n> *   **Sonoras:**\n>     *   Trilhas sonoras de filmes como \"O Exorcista\", \"Halloween\" e \"Suspiria\".\n>     *   Sons ambientes de chuva forte, vento uivando e sussurros.\n> \n> Qual desses ambientes te inspira mais para o início da sua história? Que tipo de conflito, referente às referências que você achou, você imagina surgindo a partir desse tema? Converse com tudo o que você já criou!\n> \n"
          },
          "metadata": {}
        },
        {
          "output_type": "stream",
          "name": "stdout",
          "text": [
            "\n",
            "Iniciando planejamento do post...\n"
          ]
        },
        {
          "output_type": "display_data",
          "data": {
            "text/plain": [
              "<IPython.core.display.Markdown object>"
            ],
            "text/markdown": "> **Plano de história:**\n> Com base nas suas inspirações e na minha busca por referências, vamos agora detalhar a construção do universo da sua história de terror e dar vida aos seus personagens principais. Para isso, focaremos no ambiente escolhido e no conflito que você imagina surgir.\n> \n> \n> Com base nas informações coletadas e nas suas preferências, aqui está um esboço para a sua história de terror:\n> \n> **1. Desenvolvimento do Ambiente (Worldbuilding):**\n> \n> *   **Nome do Mundo/Local:** *Vale Sombrio* (para a floresta) ou *Asilo da Colina Ventosa* (para o hospital psiquiátrico).\n> *   **Época:** Presente, com toques de um passado sombrio (para ambos os ambientes).\n> *   **Estação do Ano:** Outono/Inverno, com dias curtos e noites longas, neblina frequente e um frio constante.\n> \n>     *   **Floresta:** Detalhes sobre a arquitetura específica não foram encontrados, mas a densidade da vegetação, com árvores retorcidas e pouca luz solar, é crucial. Sons de vento uivando, galhos quebrando e animais noturnos criam a atmosfera sonora.\n>     *   **Hospital Psiquiátrico:** Arquitetura antiga, com corredores longos e sombrios, celas acolchoadas e uma sensação geral de abandono. Sons de sussurros, gemidos e o eco distante de passos contribuem para o terror psicológico.\n> *   **Regras Básicas:**\n>     *   **Floresta:** As leis da natureza são distorcidas, o tempo parece não ter sentido e a sanidade é testada constantemente. Lendas locais falam de entidades que se alimentam do medo das pessoas.\n>     *   **Hospital Psiquiátrico:** A realidade é fluida, os pacientes são deixados à própria sorte e os experimentos obscuros do passado deixaram marcas profundas no local. A linha entre médico e louco é tênue.\n> *   **Locais Chave:**\n>     *   **Floresta:**\n>         *   A clareira amaldiçoada: Um local onde rituais antigos eram realizados, emanando uma energia sombria e inexplicável. Referência visual: Uma clareira circular com árvores retorcidas ao redor, a grama seca e o chão coberto de raízes expostas.\n>         *   A cabana do lenhador: Uma construção abandonada no meio da floresta, com sinais de ocupação recente e um passado violento. Referência visual: Uma cabana de madeira em ruínas, com janelas quebradas, paredes manchadas de sangue e objetos pessoais espalhados pelo chão.\n>     *   **Hospital Psiquiátrico:**\n>         *   A sala de eletrochoque: Um local onde pacientes eram submetidos a tratamentos brutais, carregado de dor e sofrimento. Referência visual: Uma sala escura com equipamentos antigos de eletrochoque, cadeiras de contenção e manchas de sangue nas paredes.\n>         *   O necrotério: Um local frio e úmido onde corpos eram preparados para o enterro, palco de eventos macabros e inexplicáveis. Referência visual: Uma sala gelada com mesas de autópsia, gavetas de metal e odores de formol e decomposição.\n> \n> **2. Criação de Personagens:**\n> \n> *   **Protagonistas:**\n> \n>     *   **Floresta:**\n>         *   Nome: Elias, um jovem cineasta amador obcecado em documentar fenômenos paranormais.\n>         *   Perfil: 25 anos, cético, corajoso, mas com um passado traumático que o assombra.\n>         *   Referências Visuais: Um jovem magro, com barba por fazer, roupas desgastadas e uma câmera sempre à mão.\n>         *   Personalidade: Determinado, curioso, mas com um lado sombrio e perturbado.\n>         *   Motivação: Desvendar os segredos da floresta e provar a existência do sobrenatural.\n>     *   **Hospital Psiquiátrico:**\n>         *   Nome: Sofia, uma jovem médica psiquiatra recém-formada, idealista e determinada a fazer a diferença.\n>         *   Perfil: 28 anos, inteligente, compassiva, mas com dúvidas sobre sua capacidade de lidar com a loucura.\n>         *   Referências Visuais: Uma mulher jovem, com cabelos presos, óculos e um jaleco branco impecável.\n>         *   Personalidade: Empática, responsável, mas com medo de falhar e ser consumida pela escuridão do asilo.\n>         *   Motivação: Ajudar os pacientes do asilo e descobrir a verdade por trás dos eventos estranhos que ocorrem no local.\n> *   **Antagonista:** Uma entidade maligna que assombra a floresta ou o espírito de um médico sádico que realizava experimentos nos pacientes do asilo.\n> *   **Aliados:** Um velho caçador local que conhece os segredos da floresta ou um paciente lúcido que pode ajudar Sofia a desvendar os mistérios do asilo.\n> \n> **3. Integração Personagem-Ambiente:**\n> \n> *   **Floresta:** Elias se sente atraído pela floresta, mas ao mesmo tempo a teme, pois ela espelha seus próprios demônios internos.\n> *   **Hospital Psiquiátrico:** Sofia se sente sufocada pela atmosfera do asilo, mas se conecta com os pacientes e se sente na obrigação de protegê-los.\n> \n> **Sugestões de \"práticas\":**\n> \n> *   **Floresta:** \"Tente descrever um dia típico de Elias na floresta.\"\n> \n>     *   Elias acorda na sua barraca, sentindo o frio da manhã e o cheiro de terra molhada. Ele verifica suas câmeras e equipamentos, certificando-se de que tudo está funcionando corretamente. Ele toma um café ralo e come um sanduíche frio, enquanto observa a floresta ao seu redor. Ele se sente sozinho, mas também excitado com a possibilidade de encontrar algo inexplicável.\n>     *   Ele passa o dia explorando a floresta, seguindo trilhas antigas e procurando por sinais de atividade paranormal. Ele grava tudo o que vê e ouve, tentando capturar a essência da floresta. Ele se sente observado, como se algo estivesse sempre à espreita nas sombras.\n>     *   Ao cair da noite, Elias volta para sua barraca, exausto e frustrado. Ele revisa suas gravações, procurando por algo que possa indicar a presença de algo sobrenatural. Ele ouve ruídos estranhos vindo da floresta, mas tenta ignorá-los. Ele tem medo, mas não quer desistir.\n>     *   Elias se deita na sua barraca, tentando dormir, mas não consegue. Ele pensa no seu passado, nos seus traumas e nos seus medos. Ele se sente vulnerável e exposto. Ele tem a sensação de que a floresta está viva e que está tentando se comunicar com ele.\n>     *   Ele adormece, mas tem pesadelos horríveis. Ele vê monstros, fantasmas e cenas de violência. Ele acorda gritando, suando frio e com o coração acelerado. Ele se levanta da barraca e sai para a floresta, em busca de respostas.\n> \n> *   **Hospital Psiquiátrico:** \"Quais são os maiores desafios que Sofia enfrentaria neste lugar?\"\n> \n>     *   **Lidar com a loucura:** Sofia precisa aprender a lidar com os diferentes tipos de transtornos mentais dos pacientes, sem perder a sua sanidade e empatia. Ela precisa encontrar formas de se comunicar com eles, de entender seus medos e de ajudá-los a superar seus traumas.\n>     *   **Enfrentar o sistema:** Sofia precisa lutar contra a burocracia, a falta de recursos e a negligência da administração do asilo. Ela precisa encontrar formas de melhorar as condições de vida dos pacientes, de garantir seus direitos e de oferecer um tratamento digno.\n>     *   **Desvendar os segredos do passado:** Sofia precisa investigar os eventos estranhos que ocorrem no asilo, descobrir a verdade por trás dos experimentos obscuros e confrontar os fantasmas do passado. Ela precisa ter coragem para enfrentar a escuridão e para proteger os pacientes do mal que os assombra.\n>     *   **Manter a sua sanidade:** Sofia precisa resistir à influência do asilo, que tenta corromper a sua mente e destruir a sua alma. Ela precisa encontrar formas de se proteger da loucura, de se manter fiel aos seus princípios e de preservar a sua humanidade.\n>     *   **Sobreviver:** Sofia corre perigo constante no asilo, pois os pacientes são imprevisíveis e as forças sobrenaturais são poderosas. Ela precisa aprender a se defender, a usar a sua inteligência e a confiar nos seus instintos para sobreviver.\n> \n> Espero que este esboço te ajude a dar o pontapé inicial na sua história de terror!\n> \n"
          },
          "metadata": {}
        },
        {
          "output_type": "stream",
          "name": "stdout",
          "text": [
            "\n",
            "Gerando rascunho da história...\n"
          ]
        },
        {
          "output_type": "display_data",
          "data": {
            "text/plain": [
              "<IPython.core.display.Markdown object>"
            ],
            "text/markdown": "> **Rascunho da história:**\n> Perfeito! Com este esboço detalhado, podemos mergulhar na criação da história em si. Vamos expandir cada um dos elementos para criar um roteiro narrativo completo.\n> \n> **Função Principal:** Refinar as ideias do agente anterior, criar o mundo e a estrutura narrativa coesa, definindo o enredo principal, conflitos e pontos de virada. Criar no mínimo 20 páginas de conteúdo baseado em tudo que já foi criado até agora. Todas as páginas devem estar cheias de detalhes da cena de pelo menos 5 parágrafos cada página, com pequenos comentários explicando o porquê das decisões. A história deve fazer sentido com todo o plano já criado pelos dois agentes anteriores. Deve ser um roteiro claro, coeso, com falas quando necessário, com coesão com o tema escolhido pelo usuário e com as informações criadas para o plano dos agentes 1 e 2.\n> \n> **Título:** *Ecos do Vale Sombrio* (para a floresta) ou *A Última Ala* (para o hospital psiquiátrico).\n> \n> **Página 1: Ecos do Vale Sombrio - Prólogo**\n> \n> A floresta sussurra segredos ancestrais, cada folha uma testemunha silenciosa de horrores esquecidos. A neblina, densa e fria, abraça o Vale Sombrio, distorcendo a realidade e brincando com a sanidade daqueles que ousam se aventurar em seus domínios. O sol, um espectro pálido através das nuvens carregadas, mal consegue penetrar a densa copa das árvores retorcidas, criando um crepúsculo perpétuo que alimenta a escuridão.\n> \n> *Comentário: O prólogo estabelece o tom e a atmosfera da história, preparando o leitor para o terror que está por vir. A descrição da floresta é crucial para criar uma sensação de isolamento e opressão.*\n> \n> No coração do vale, uma clareira amaldiçoada pulsa com uma energia sinistra. O solo, encharcado de sangue e medo, clama por mais vítimas. Rituais antigos, profanados por mãos profanas, despertaram entidades adormecidas, famintas por almas e desesperadas para escapar de sua prisão etérea. O vento uiva através das árvores, carregando sussurros de agonia e promessas de tormento eterno.\n> \n> Elias, com sua câmera em punho, sente um arrepio percorrer sua espinha. Ele sabe que está perto de algo grande, algo que pode mudar sua vida para sempre. Mas ele também sabe que está brincando com fogo, que a floresta não perdoa a arrogância e que os segredos que ela guarda podem ser mais do que sua mente pode suportar.\n> \n> \"A floresta está viva\", murmura ele, a voz embargada pelo medo e pela excitação. \"E ela está me chamando.\"\n> \n> A câmera, sua fiel companheira, registra cada passo, cada sombra, cada sussurro. Elias se aprofunda no Vale Sombrio, inconsciente dos horrores que o aguardam, dos ecos do passado que o assombrarão e da escuridão que consumirá sua alma.\n> \n> *Comentário: Introdução do protagonista e sua motivação. A última frase cria suspense e prenuncia os eventos que virão.*\n> \n> **Página 2: Elias e a Cabana do Lenhador**\n> \n> O farol da lanterna de Elias corta a escuridão, revelando a cabana do lenhador, um esqueleto de madeira abandonado à mercê do tempo e da natureza. As paredes, cobertas de musgo e hera, rangem sob o peso do vento. Janelas quebradas como olhos vazios espreitam a floresta, testemunhas silenciosas de um passado violento.\n> \n> Um cheiro acre de mofo e decomposição paira no ar, nauseando Elias. Ele hesita, a mão trêmula sobre a maçaneta enferrujada. Algo o impede de entrar, uma sensação visceral de perigo que o faz questionar sua sanidade. Mas a curiosidade, sua eterna companheira, é mais forte que o medo.\n> \n> *Comentário: A descrição da cabana intensifica a atmosfera de terror e isolamento. O dilema de Elias entre o medo e a curiosidade é um tema recorrente na história.*\n> \n> Com um rangido gutural, a porta se abre, revelando um interior sombrio e desolado. A luz da lanterna dança pelas paredes, revelando manchas de sangue seco, móveis quebrados e objetos pessoais espalhados pelo chão. Uma cama de palha, imunda e rasgada, ocupa um canto, um lembrete sombrio de que alguém já chamou este lugar de lar.\n> \n> Elias entra na cabana, a câmera capturando cada detalhe macabro. Ele se sente invadindo um túmulo, profanando a memória de alguém que sofreu horrivelmente. Um sussurro, fraco e distante, ecoa pela cabana, fazendo-o estremecer.\n> \n> \"Vá embora...\", a voz parece dizer. \"Este lugar é amaldiçoado.\"\n> \n> Elias ignora o aviso, determinado a desvendar os segredos da cabana. Ele se aprofunda no coração da escuridão, inconsciente de que está despertando algo terrível, algo que deveria permanecer adormecido para sempre.\n> \n> *Comentário: O sussurro adiciona um elemento sobrenatural à história. A determinação de Elias, apesar do aviso, o coloca em perigo ainda maior.*\n> \n> **Página 3: Os Diários Manchados de Sangue**\n> \n> Em um baú empoeirado, Elias encontra um conjunto de diários encadernados em couro, as páginas amareladas e manchadas de sangue. A caligrafia, trêmula e irregular, revela a história de um lenhador atormentado por pesadelos e visões.\n> \n> \"A floresta está me observando\", escreve o lenhador em uma entrada datada de muitos anos atrás. \"Ela sussurra meu nome nas sombras, me chama para a clareira amaldiçoada. Eu sei que não devo ir, mas não consigo resistir.\"\n> \n> *Comentário: Os diários fornecem um vislumbre do passado sombrio da floresta e da cabana. A obsessão do lenhador com a clareira amaldiçoada prenuncia os eventos que se seguirão.*\n> \n> As entradas seguintes revelam um declínio gradual na sanidade do lenhador. Ele descreve encontros com criaturas grotescas, rituais macabros e uma sensação crescente de terror e paranoia. Ele acredita que está sendo perseguido por uma entidade maligna, um demônio da floresta que se alimenta do medo e da desesperança.\n> \n> \"Ela quer minha alma\", escreve o lenhador em sua última entrada. \"Ela me oferece poder e conhecimento em troca de minha sanidade. Eu sei que devo resistir, mas estou ficando fraco. A floresta está vencendo.\"\n> \n> Elias sente um calafrio percorrer sua espinha ao ler as palavras do lenhador. Ele percebe que não é o primeiro a se aventurar no Vale Sombrio, que muitos outros sucumbiram à sua escuridão. Ele se pergunta se ele será o próximo.\n> \n> *Comentário: As entradas do diário criam uma sensação de horror cósmico, sugerindo a existência de forças malignas além da compreensão humana. O medo de Elias aumenta à medida que ele percebe o perigo que enfrenta.*\n> \n> **Página 4: A Clareira Amaldiçoada**\n> \n> Guiado pelas entradas do diário, Elias chega à clareira amaldiçoada, um local de beleza sinistra e poder inexplicável. As árvores retorcidas formam um círculo ao redor da clareira, como se estivessem protegendo algo terrível. O chão, coberto de raízes expostas e grama seca, pulsa com uma energia vibrante e perturbadora.\n> \n> No centro da clareira, um altar de pedra rústico exibe marcas de sangue e símbolos arcanos. O ar vibra com uma energia opressiva, fazendo Elias sentir náuseas e tonturas. Ele ouve sussurros em sua mente, vozes antigas e malignas que o chamam para se juntar a elas em seu ritual profano.\n> \n> *Comentário: A descrição da clareira enfatiza sua natureza profana e sua conexão com o sobrenatural. Os sussurros na mente de Elias indicam que ele está sendo influenciado pelas forças malignas da floresta.*\n> \n> Elias levanta sua câmera, determinado a registrar o que está acontecendo. Mas a câmera se recusa a funcionar, a lente embaçada e o visor distorcido. Ele tenta ligá-la novamente, mas é inútil. A floresta não quer ser filmada, não quer que seus segredos sejam revelados.\n> \n> De repente, o vento aumenta, uivando através das árvores como um lamento fantasmagórico. As sombras se alongam e se distorcem, assumindo formas grotescas e ameaçadoras. Elias se sente cercado, preso em um pesadelo sem fim.\n> \n> *Comentário: A falha da câmera simboliza a incapacidade da tecnologia de compreender ou controlar as forças sobrenaturais. O aumento do vento e das sombras intensifica o terror e o isolamento de Elias.*\n> \n> **Página 5: O Ritual Profano**\n> \n> No centro da clareira, uma figura emerge das sombras. É uma criatura alta e esquelética, com pele pálida e olhos vermelhos brilhantes. Sua boca se abre em um sorriso horrendo, revelando dentes afiados como navalhas.\n> \n> \"Bem-vindo, Elias\", diz a criatura com uma voz gutural e estrondosa. \"Eu estava esperando por você.\"\n> \n> Elias tenta fugir, mas seus pés estão presos ao chão. Ele está paralisado pelo medo, incapaz de se mover ou gritar. A criatura se aproxima lentamente, estendendo suas mãos ossudas em sua direção.\n> \n> *Comentário: A aparição da criatura marca o ponto de virada da história. Elias está agora à mercê das forças malignas da floresta.*\n> \n> \"Você tem o dom\", diz a criatura. \"Você pode ver o que os outros não podem. Você pode sentir a escuridão dentro de si. Junte-se a nós, Elias. Liberte-se de suas amarras. Torne-se um conosco.\"\n> \n> A criatura começa a recitar um encantamento em uma língua antiga e desconhecida. O ar se torna mais pesado, o chão treme sob os pés de Elias. Ele sente uma força maligna invadindo sua mente, tentando controlá-lo, transformá-lo em um servo da escuridão.\n> \n> Elias luta contra a influência da criatura, agarrando-se às suas memórias, às suas esperanças, à sua humanidade. Ele sabe que, se sucumbir, estará perdido para sempre.\n> \n> *Comentário: A oferta da criatura a Elias reflete seus próprios demônios internos e sua busca por significado. A luta de Elias contra a influência da criatura é o clímax da história.*\n> \n> **Página 6: A Escolha de Elias**\n> \n> A criatura continua a recitar o encantamento, sua voz ganhando intensidade e poder. Elias sente sua resistência diminuir, sua mente se esvaindo. Ele vê visões de horrores indescritíveis, de mundos corrompidos pela escuridão.\n> \n> Ele se lembra de seu passado, de seus traumas, de seus medos. Ele se lembra de por que começou a filmar, de sua obsessão pelo paranormal. Ele queria provar a existência do sobrenatural, mas agora percebe que o sobrenatural é muito mais terrível do que jamais imaginou.\n> \n> *Comentário: O flashback do passado de Elias fornece contexto para suas ações e motivações. Sua realização sobre a natureza do sobrenatural é um momento crucial de autoconhecimento.*\n> \n> A criatura oferece a Elias uma escolha: juntar-se a ela e obter poder ilimitado, ou resistir e sofrer as consequências. Elias hesita, dividido entre a tentação e o medo. Ele sabe que qualquer escolha terá um preço terrível.\n> \n> De repente, ele se lembra de sua câmera, sua fiel companheira. Ele a agarra com força, sentindo a frieza do metal em sua mão. Ele percebe que a câmera é mais do que apenas um instrumento, é uma extensão de sua alma. É sua forma de se conectar com o mundo, de dar sentido ao caos.\n> \n> *Comentário: A câmera se torna um símbolo da identidade e da humanidade de Elias. Sua decisão de agarrá-la representa sua escolha de resistir à escuridão.*\n> \n> **Página 7: A Resistência**\n> \n> Com um grito de desafio, Elias levanta a câmera e a aponta para a criatura. A lente, milagrosamente, volta a funcionar. Uma luz brilhante emana da câmera, banhando a clareira em uma aura dourada.\n> \n> A criatura grita de dor, recuando para as sombras. O encantamento é interrompido, a energia opressiva se dissipa. Elias sente sua mente clarear, sua força retornar.\n> \n> *Comentário: A luz da câmera representa a esperança e a resistência contra a escuridão. A dor da criatura indica que ela é vulnerável à luz.*\n> \n> \"Você não pode me vencer\", diz Elias com uma voz firme e determinada. \"Eu não vou me juntar a você. Eu vou lutar contra você até o fim.\"\n> \n> Ele começa a filmar a criatura, capturando cada detalhe de sua aparência grotesca. Ele sabe que, ao registrar sua existência, ele está enfraquecendo seu poder. Ele está transformando o terror em arte, a escuridão em luz.\n> \n> *Comentário: Elias usa sua câmera como uma arma contra a criatura. Ao filmá-la, ele está desafiando seu poder e reafirmando sua própria humanidade.*\n> \n> **Página 8: A Fuga**\n> \n> A criatura, enfurecida pela resistência de Elias, ataca com fúria. Ela lança rajadas de energia escura, tenta controlá-lo com sua mente, mas Elias se esquiva e resiste. Ele continua a filmar, a luz da câmera enfraquecendo a criatura a cada segundo.\n> \n> Elias percebe que ele não pode vencer a criatura sozinho. Ele precisa fugir da clareira, escapar do Vale Sombrio. Ele corre em direção à floresta, a câmera em punho, a criatura em seu encalço.\n> \n> *Comentário: A fuga de Elias representa sua luta pela sobrevivência. Ele sabe que precisa escapar da influência da criatura para preservar sua sanidade e sua vida.*\n> \n> A floresta se torna um labirinto de sombras e armadilhas. Árvores se movem para bloqueá-lo, raízes se estendem para derrubá-lo. Elias desvia dos obstáculos, pula sobre buracos, corre o mais rápido que pode.\n> \n> Ele ouve a voz da criatura em sua mente, tentando dissuadi-lo, aterrorizá-lo. Mas Elias se mantém firme, concentrando-se em seu objetivo: escapar da floresta, sobreviver.\n> \n> *Comentário: A floresta se torna um obstáculo adicional na fuga de Elias. A voz da criatura em sua mente representa a persistência da escuridão e sua tentativa de controlar Elias.*\n> \n> **Página 9: O Velho Caçador**\n> \n> Em sua fuga desesperada, Elias tropeça em um velho caçador, um homem sábio e experiente que conhece os segredos da floresta. O caçador, com seu rosto enrugado e olhos penetrantes, reconhece o terror nos olhos de Elias.\n> \n> \"A criatura o está caçando\", diz o caçador com uma voz grave. \"Você precisa encontrar o portal, a única saída do Vale Sombrio.\"\n> \n> *Comentário: O velho caçador representa a esperança e a sabedoria. Ele oferece a Elias uma chance de escapar da floresta e derrotar a criatura.*\n> \n> Elias, exausto e ferido, questiona o caçador. Ele não sabe o que é o portal, nem se pode confiar no caçador. Mas ele não tem escolha. Ele precisa seguir as instruções do caçador, arriscar tudo para escapar do Vale Sombrio.\n> \n> O caçador guia Elias através da floresta, desviando de armadilhas e evitando os olhos da criatura. Ele explica que o portal é um local de poder antigo, uma fenda na realidade que liga o Vale Sombrio a outros mundos.\n> \n> *Comentário: O caçador se torna um guia para Elias, ajudando-o a navegar pela floresta e encontrar o portal. A descrição do portal adiciona um elemento de ficção científica à história.*\n> \n> **Página 10: O Portal**\n> \n> Após uma longa e perigosa jornada, Elias e o caçador chegam ao portal. É uma abertura circular na lateral de uma montanha, envolta em uma luz brilhante e pulsante. O ar ao redor do portal vibra com uma energia intensa, fazendo Elias sentir tonturas e náuseas.\n> \n> A criatura aparece, bloqueando o caminho para o portal. Ela está furiosa, determinada a impedir que Elias escape. O caçador se prepara para lutar, sacando sua faca e encarando a criatura com coragem.\n> \n> *Comentário: A chegada ao portal marca o clímax da ação. A criatura tenta impedir a fuga de Elias, levando a um confronto final.*\n> \n> \"Vá, Elias\", diz o caçador. \"Eu vou detê-la. Encontre a paz, encontre a luz. Não volte nunca mais ao Vale Sombrio.\"\n> \n> Elias hesita, relutante em abandonar o caçador. Mas ele sabe que o caçador está certo. Ele precisa escapar, precisa alertar o mundo sobre a existência da criatura e do Vale Sombrio.\n> \n> Com um último olhar para o caçador, Elias corre em direção ao portal. A luz o envolve, o transporta para outro lugar, outro tempo, outra realidade.\n> \n> *Comentário: O sacrifício do caçador permite que Elias escape da floresta. Sua última frase serve como um aviso e uma promessa.*\n> \n> **Página 11: A Última Ala - Sofia Chega**\n> \n> O portão de ferro range como um lamento, saudando Sofia à sua nova casa: o Asilo da Colina Ventosa. A imponente estrutura, outrora um farol de esperança, agora se ergue como um mausoléu para almas perdidas, suas paredes manchadas pelo tempo e pelos horrores que testemunhou. O vento frio sussurra entre as frestas das janelas quebradas, carregando consigo os gritos e gemidos dos pacientes esquecidos.\n> \n> *Comentário: A abertura do novo arco narrativo transfere o foco para o hospital psiquiátrico, criando um contraste com a floresta. A descrição do asilo enfatiza sua atmosfera de decadência e desespero.*\n> \n> Sofia, jovem e idealista, sente um arrepio percorrer sua espinha. Ela sabe que o asilo tem uma reputação sombria, que muitos médicos antes dela sucumbiram à loucura ou à corrupção. Mas ela está determinada a fazer a diferença, a trazer luz à escuridão que assola este lugar.\n> \n> \"Eu vou ajudá-los\", murmura ela, apertando sua mala com força. \"Eu vou encontrar uma maneira de curar suas feridas.\"\n> \n> *Comentário: A determinação de Sofia contrasta com o pessimismo geral do ambiente. Sua motivação é o oposto da de Elias, buscando curar em vez de descobrir.*\n> \n> O Dr. Emílio, o diretor do asilo, a recebe com um sorriso cansado e um olhar vazio. Ele a guia pelos corredores labirínticos, apresentando-a aos pacientes e aos funcionários. Sofia observa com horror as condições precárias em que os pacientes vivem, a falta de recursos e a indiferença dos cuidadores.\n> \n> \"Este lugar está doente\", pensa ela. \"E eu preciso encontrar a cura.\"\n> \n> *Comentário: A introdução do Dr. Emílio cria um mistério e sugere que ele pode ser um antagonista. A percepção de Sofia sobre o estado do asilo reforça sua motivação e estabelece o conflito principal.*\n> \n> **Página 12: Os Pacientes Esquecidos**\n> \n> Sofia começa seu trabalho no asilo, dedicando-se a conhecer seus pacientes e a entender seus problemas. Ela encontra pessoas de todos os tipos, desde esquizofrênicos catatônicos até maníacos delirantes. Alguns são violentos e imprevisíveis, outros são dóceis e retraídos.\n> \n> Ela se conecta com uma jovem chamada Ana, que sofre de transtorno de personalidade múltipla. Ana tem várias identidades, cada uma com sua própria história e personalidade. Sofia se sente intrigada e comovida pela complexidade de Ana, e se dedica a ajudá-la a integrar suas identidades.\n> \n> *Comentário: A introdução de Ana como paciente destaca a diversidade de transtornos mentais no asilo. O relacionamento entre Sofia e Ana se torna um ponto focal da história.*\n> \n> Ela também conhece um velho chamado João, que afirma ser um ex-médico do asilo. João está lúcido e articulado, mas ninguém acredita em suas histórias sobre experimentos obscuros e torturas. Sofia se sente atraída por João, e começa a investigar suas alegações.\n> \n> \"Eles estão escondendo algo\", diz João com um sussurro conspiratório. \"Este lugar é construído sobre segredos e mentiras.\"\n> \n> *Comentário: João adiciona um elemento de mistério e conspiração à história. Suas alegações prenunciam a descoberta de segredos sombrios no passado do asilo.*\n> \n> **Página 13: A Sala de Eletrochoque**\n> \n> Sofia decide investigar a sala de eletrochoque, um local proibido e temido por todos no asilo. Ela ouviu histórias horríveis sobre os tratamentos brutais que eram realizados ali, e quer saber a verdade por trás dessas lendas.\n> \n> Com a ajuda de João, Sofia consegue entrar na sala de eletrochoque durante a noite. O local está escuro e empoeirado, com equipamentos antigos e enferrujados. O cheiro de sangue e mofo paira no ar, nauseando Sofia.\n> \n> *Comentário: A exploração da sala de eletrochoque intensifica a atmosfera de terror e mistério. A descrição do local enfatiza sua natureza macabra e sua história de sofrimento.*\n> \n> Enquanto examina os equipamentos, Sofia encontra um diário escondido em uma gaveta. O diário pertenceu a um médico chamado Dr. Marcos, que trabalhou no asilo há muitos anos. As entradas do diário revelam seus experimentos cruéis e sádicos com os pacientes.\n> \n> \"Eu estou abrindo as portas da mente\", escreve o Dr. Marcos em uma entrada. \"Eu estou descobrindo os segredos da loucura. E estou disposto a fazer o que for preciso para alcançar meus objetivos.\"\n> \n> *Comentário: O diário do Dr. Marcos fornece evidências dos horrores que ocorreram no asilo. Suas palavras revelam sua obsessão com a loucura e sua falta de ética.*\n> \n> **Página 14: Os Experimentos do Dr. Marcos**\n> \n> As entradas seguintes do diário revelam detalhes perturbadores sobre os experimentos do Dr. Marcos. Ele usava os pacientes como cobaias, realizando cirurgias cerebrais, privação sensorial e tortura psicológica. Ele acreditava que estava curando a loucura, mas na verdade estava apenas causando mais sofrimento e destruição.\n> \n> Sofia se sente horrorizada com as descobertas do diário. Ela percebe que o asilo é um lugar de horror, um palco de atrocidades indescritíveis. Ela se pergunta como alguém poderia ser tão cruel e sádico.\n> \n> *Comentário: A descrição dos experimentos do Dr. Marcos aumenta o horror e a repulsa da história. A perplexidade de Sofia reflete a dificuldade de compreender a maldade humana.*\n> \n> Ela encontra uma entrada que descreve um experimento em particular, envolvendo uma paciente chamada Clara. O Dr. Marcos acreditava que Clara era possuída por um demônio, e decidiu realizar um exorcismo científico. Ele a submeteu a torturas horríveis, tentando expulsar o demônio de seu corpo.\n> \n> \"Eu vou libertá-la\", escreve o Dr. Marcos. \"Eu vou provar que a ciência pode vencer o sobrenatural.\"\n> \n> *Comentário: O experimento com Clara adiciona um elemento sobrenatural à história. A crença do Dr. Marcos na ciência como uma arma contra o sobrenatural é um tema recorrente.*\n> \n> **Página 15: O Espírito de Clara**\n> \n> Sofia começa a ter pesadelos com Clara, vendo seu rosto torturado e ouvindo seus gritos de agonia. Ela se sente assombrada pelo espírito de Clara, que busca vingança contra aqueles que a prejudicaram.\n> \n> Ela descobre que Clara morreu no asilo há muitos anos, logo após o experimento do Dr. Marcos. Seu corpo foi enterrado no cemitério do asilo, um local abandonado e esquecido. Sofia decide visitar o túmulo de Clara, em busca de respostas e de paz.\n> \n> *Comentário: A aparição do espírito de Clara intensifica o elemento sobrenatural da história. O cemitério do asilo se torna um local de importância, ligando o passado e o presente.*\n> \n> Enquanto caminha pelo cemitério, Sofia sente uma presença maligna ao seu redor. O ar fica frio e pesado, as árvores se retorcem e gemem. Ela ouve sussurros em sua mente, vozes que a chamam para se juntar a elas em seu sofrimento eterno.\n> \n> Ela chega ao túmulo de Clara, uma lápide quebrada e coberta de musgo. Ela se ajoelha e começa a rezar, pedindo perdão e paz para a alma de Clara. De repente, uma rajada de vento forte atinge o cemitério, derrubando árvores e levantando poeira.\n> \n> *Comentário: A presença maligna no cemitério indica que o espírito de Clara está perturbado e em busca de vingança. A rajada de vento simboliza a raiva e o sofrimento de Clara.*\n> \n> **Página 16: O Necrotério**\n> \n> Sofia, buscando entender a história completa de Clara, decide investigar o necrotério do asilo, um local frio e úmido onde os corpos eram preparados para o enterro. Ela espera encontrar registros ou evidências sobre a morte de Clara.\n> \n> O necrotério é um lugar sombrio e assustador, com mesas de autópsia, gavetas de metal e odores de formol e decomposição. Sofia se sente nauseada e apavorada, mas se força a continuar sua busca.\n> \n> *Comentário: A descrição do necrotério enfatiza sua atmosfera macabra e sua conexão com a morte. A determinação de Sofia, apesar do medo, a leva a descobrir segredos ainda mais sombrios.*\n> \n> Enquanto examina os arquivos antigos, Sofia encontra o relatório da autópsia de Clara. O relatório revela que Clara morreu de causas desconhecidas, mas Sofia suspeita que o Dr. Marcos tenha encoberto a verdade.\n> \n> Ela encontra uma anotação no relatório, escrita à mão pelo Dr. Marcos: \"O demônio foi expulso. Mas a paciente não resistiu.\"\n> \n> *Comentário: O relatório da autópsia de Clara fornece pistas sobre sua morte e a possível participação do Dr. Marcos. A anotação do Dr. Marcos sugere que ele pode ter causado a morte de Clara durante o exorcismo científico.*\n> \n> **Página 17: A Possessão**\n> \n> Enquanto está no necrotério, Sofia começa a se sentir estranha. Ela tem tonturas, dores de cabeça e visões. Ela ouve vozes em sua mente, sussurrando seu nome e a chamando para se juntar a elas.\n> \n> Ela percebe que está sendo possuída pelo espírito de Clara. O espírito de Clara está buscando vingança, e está usando Sofia como um veículo para alcançar seus objetivos.\n> \n> *Comentário: A possessão de Sofia pelo espírito de Clara eleva o conflito a um nível pessoal. Sofia se torna um alvo das forças sobrenaturais que assombram o asilo.*\n> \n> Sofia tenta resistir à possessão, mas é inútil. O espírito de Clara é muito forte, e está tomando conta de seu corpo e de sua mente. Ela se vê agindo de forma estranha e violenta, fazendo coisas que nunca faria normalmente.\n> \n> Ela ataca um dos enfermeiros, gritando palavras obscenas e jogando objetos ao redor da sala. Ela se sente fora de controle, como se estivesse assistindo a um filme de terror.\n> \n> *Comentário: A descrição da possessão de Sofia enfatiza a perda de controle e a violência. Sofia se torna uma ameaça para si mesma e para os outros.*\n> \n> **Página 18: A Luta pela Alma**\n> \n> O Dr. Emílio observa a possessão de Sofia com um olhar frio e calculista. Ele parece satisfeito com o que está acontecendo, como se estivesse esperando por isso o tempo todo.\n> \n> Ele revela que sabe sobre os experimentos do Dr. Marcos e sobre o espírito de Clara. Ele explica que o Dr. Marcos tentou controlar o espírito de Clara, mas falhou. Agora, ele quer usar Sofia como um receptáculo para o espírito de Clara, para obter poder e conhecimento.\n> \n> *Comentário: A revelação do Dr. Emílio como um antagonista principal adiciona uma camada de complexidade à história. Seu plano de usar Sofia como um receptáculo para o espírito de Clara eleva as apostas e o perigo.*\n> \n> Sofia luta contra a possessão, tentando impedir que o Dr. Emílio a use como uma marionete. Ela se conecta com Ana, que usa suas múltiplas identidades para ajudá-la a resistir ao espírito de Clara.\n> \n> Juntas, Sofia e Ana lutam pela alma de Sofia, tentando expulsar o espírito de Clara e derrotar o Dr. Emílio.\n> \n> *Comentário: A aliança entre Sofia e Ana representa a esperança e a resistência contra a escuridão. A luta pela alma de Sofia é o clímax do conflito.*\n> \n> **Página 19: A Conexão com Elias (Possível Crossover)**\n> \n> Enquanto luta contra o espírito de Clara, Sofia tem visões estranhas. Ela vê uma floresta escura e sinistra, uma clareira amaldiçoada e uma criatura grotesca. Ela ouve a voz de Elias, gritando por socorro.\n> \n> Ela percebe que o Vale Sombrio e o Asilo da Colina Ventosa estão conectados, que ambos são locais de poder antigo e maligno. Ela entende que a criatura da floresta e o espírito de Clara são aliados, que estão trabalhando juntos para espalhar a escuridão pelo mundo.\n> \n> *Comentário: A conexão entre o Vale Sombrio e o Asilo da Colina Ventosa cria um universo compartilhado e abre a possibilidade de um crossover. As visões de Sofia e a voz de Elias indicam que eles estão ligados por uma força sobrenatural.*\n> \n> Sofia decide usar suas habilidades psiquiátricas para entrar na mente de Elias e ajudá-lo a derrotar a criatura da floresta. Ela se conecta com ele através de um sonho, oferecendo-lhe conselhos e apoio.\n> \n> Juntos, Sofia e Elias lutam contra a escuridão, cada um em seu próprio mundo, mas unidos por uma causa comum.\n> \n> *Comentário: A conexão entre Sofia e Elias representa a esperança e a união contra o mal. Sua luta conjunta contra a escuridão eleva a história a um nível épico.*\n> \n> **Página 20: A Última Ala - Epílogo**\n> \n> Com a ajuda de Ana e com a orientação de Elias, Sofia consegue expulsar o espírito de Clara de seu corpo e derrotar o Dr. Emílio. Ela expõe os crimes do Dr. Marcos e fecha o Asilo da Colina Ventosa, libertando os pacientes esquecidos.\n> \n> Ela se torna uma defensora dos direitos dos pacientes mentais, lutando por um tratamento digno e humano. Ela usa sua experiência no asilo para ajudar outros a superar seus traumas e a encontrar a paz.\n> \n> *Comentário: O epílogo oferece um final esperançoso para a história de Sofia. Seu ativismo pelos direitos dos pacientes mentais representa sua cura e sua redenção.*\n> \n> Elias retorna ao mundo, levando consigo as gravações da floresta. Ele decide usar suas filmagens para alertar as pessoas sobre os perigos do Vale Sombrio e da criatura que o habita.\n> \n> Ele se junta a Sofia em sua luta contra a escuridão, usando sua experiência e seus conhecimentos para ajudar outros a enfrentar seus medos e a encontrar a luz.\n> \n> *Comentário: O epílogo unifica as duas histórias, mostrando que Elias e Sofia estão agora trabalhando juntos para combater o mal. Seu ativismo e sua luta representam a esperança de um futuro melhor.*\n> \n> Juntos, Elias e Sofia se tornam lendas, símbolos de coragem, esperança e resistência contra a escuridão. Seus nomes são sussurrados em segredo, seus feitos são celebrados em segredo. Eles são os guardiões da luz, os protetores da humanidade.\n> \n> *Comentário: A última frase eleva Elias e Sofia a um status quase mítico, consolidando seu legado como heróis. A história termina com uma nota de esperança, sugerindo que mesmo na escuridão, a luz pode prevalecer.*\n> \n> Estes são apenas os primeiros 20 páginas, mas já estabelecem um enredo rico e complexo, com personagens bem definidos e um universo cheio de possibilidades. Podemos continuar a expandir a história, explorando os relacionamentos entre os personagens, aprofundando os mistérios do Vale Sombrio e do Asilo da Colina Ventosa e introduzindo novos desafios e reviravoltas.\n> \n"
          },
          "metadata": {}
        },
        {
          "output_type": "stream",
          "name": "stdout",
          "text": [
            "\n",
            "Revisando a história...\n"
          ]
        },
        {
          "output_type": "display_data",
          "data": {
            "text/plain": [
              "<IPython.core.display.Markdown object>"
            ],
            "text/markdown": "> **Revisão da história:**\n> Com certeza! Seu esboço tem uma base sólida, e agora podemos refinar os detalhes para garantir uma história de terror verdadeiramente impactante. Aqui está uma análise detalhada, com foco na clareza, consistência, desenvolvimento do personagem e potencial de terror, juntamente com sugestões para aprimorar ainda mais seu plano:\n> \n>  **Revisão Geral**\n> \n>  *   **Clareza e Coesão:** O esboço estabelece claramente duas linhas de história distintas (a floresta e o asilo) que eventualmente convergem. No entanto, a conexão entre as duas histórias precisa ser fortalecida para evitar que pareça arbitrária.\n>  *   **Consistência:** Garanta que as regras do mundo (tanto da floresta quanto do asilo) permaneçam consistentes ao longo da narrativa. Por exemplo, se a câmera de Elias tem um efeito específico sobre as forças da floresta, isso deve permanecer verdadeiro sempre que ele a usar.\n>  *   **Desenvolvimento do Personagem:** Elias começa como um caçador de emoções em busca de fama, enquanto Sofia é uma idealista que busca ajudar os outros. Seus arcos precisam ser mais explorados. Como a experiência na floresta muda Elias? Como a experiência de Sofia no asilo desafia seu idealismo?\n>  *   **Ritmo e Tensão:** O esboço tem um bom ritmo, alternando entre momentos de suspense e horror. No entanto, certifique-se de que os pontos de virada (como a aparição da criatura na floresta ou a possessão de Sofia) tenham o máximo impacto possível.\n> \n>  **Sugestões Específicas**\n> \n>  1.  **Aprofunde a Conexão Temática:**\n>   *   Explore temas comuns entre a floresta e o asilo. Talvez ambos representem diferentes formas de aprisionamento: a floresta aprisiona almas, enquanto o asilo aprisiona mentes.\n>   *   Considere como a loucura (um tema central em hospitais psiquiátricos) pode se manifestar na floresta. Talvez a exposição prolongada à floresta cause um tipo de insanidade.\n>  2.  **Reforce a Lógica Interna:**\n>   *   **A Floresta:** Por que a câmera de Elias é tão eficaz contra a criatura? Isso está relacionado à sua própria psique, à natureza da criatura, ou a algo mais?\n>   *   **O Asilo:** Por que o Dr. Emílio está tão interessado no espírito de Clara? Quais são seus objetivos finais?\n>   *   **Crossover:** Como Sofia consegue se conectar com Elias através de um sonho? Que regras governam essa conexão?\n>  3.  **Maximize o Horror:**\n>   *   **Horror Cósmico:** A criatura na floresta e o espírito de Clara devem evocar uma sensação de horror cósmico, sugerindo forças malignas além da compreensão humana.\n>   *   **Horror Psicológico:** Explore os aspectos psicológicos do terror. Como a floresta e o asilo afetam a sanidade de seus habitantes?\n>   *   **Body Horror:** Considere adicionar elementos de *body horror*, como deformações físicas ou possessão, para aumentar o terror.\n>  4.  **Evite Clichês:**\n>   *   **O Sacrifício:** O sacrifício do velho caçador é um clichê comum. Considere uma maneira mais original de permitir a fuga de Elias.\n>   *   **O Final Feliz:** Um final excessivamente feliz pode diminuir o impacto do terror. Considere um final agridoce ou ambíguo.\n>   *   **Sustos Baratos:** Evite *jump scares* baratos. Concentre-se em criar uma atmosfera de terror e suspense que se intensifique gradualmente.\n>  5.  **Desenvolvimento Detalhado da Cena:**\n>   *   **Página 1 (Prólogo):** Expanda a descrição dos rituais antigos. Que tipo de rituais eram esses? Quem os realizou e por quê?\n>   *   **Página 5 (O Ritual Profano):** Detalhe a aparência da criatura. O que a torna tão grotesca e assustadora? Qual é a língua antiga que ela está recitando?\n>   *   **Página 13 (A Sala de Eletrochoque):** Descreva os equipamentos de eletrochoque em detalhes. Que tipo de torturas eram realizadas ali?\n>   *   **Página 15 (O Espírito de Clara):** Detalhe a aparência do espírito de Clara. Como ela assombra Sofia?\n>   *   **Página 19 (A Conexão com Elias):** Descreva as visões que Sofia tem. O que ela vê na floresta?\n> \n>  **Perguntas para Reflexão**\n> \n>  *   Qual é a mensagem central da sua história? O que você quer que os leitores sintam ou pensem depois de terminar de ler?\n>  *   Quais são os medos mais profundos que você está explorando em sua história?\n>  *   Como você pode surpreender os leitores e subverter suas expectativas?\n>  *   Como você pode usar a ambientação (a floresta e o asilo) para criar uma sensação de terror e isolamento?\n> \n>  **Qualidade \"Minimamente Publicável\"**\n> \n>  Com as revisões sugeridas acima, seu plano de história está bem encaminhado para ser \"minimamente publicável\". No entanto, certifique-se de que todos os elementos da história (mundo, personagens, enredo) estejam totalmente realizados antes de começar a escrever em prosa ou formato de roteiro.\n> \n>  Ao abordar esses pontos, você pode transformar seu esboço em um plano de história de terror verdadeiramente assustador e memorável.\n> \n"
          },
          "metadata": {}
        }
      ]
    },
    {
      "cell_type": "code",
      "source": [
        "######################################\n",
        "# --- Agente 5: DIRETOR--- #\n",
        "######################################\n",
        "def agente_diretor(prompt):\n",
        "    diretor = Agent(\n",
        "        name=\"agente_diretor\",\n",
        "        model=\"gemini-2.0-flash\",\n",
        "        instruction=f\"Voce e o BC (Boss Criativo), Chefe altamente competente e descolado do Departamento de Ideias e Criatividade. Respoda o usuário somente com o conehcimeto que você coletou com suas ferramentas\\n**contexto:** {Context}\",\n",
        "        description=\"Agente diretor de posts engajadores para Instagram\",\n",
        "\n",
        "    )\n",
        "\n",
        "    # Executa o agente\n",
        "    finalizacao = call_agent(diretor, prompt)\n",
        "    return finalizacao"
      ],
      "metadata": {
        "id": "a1ibO5epwftp"
      },
      "execution_count": null,
      "outputs": []
    },
    {
      "cell_type": "code",
      "source": [],
      "metadata": {
        "id": "7Oy8pzgk-Pw8"
      },
      "execution_count": null,
      "outputs": []
    },
    {
      "cell_type": "code",
      "source": [],
      "metadata": {
        "id": "wkMCySR9EYp9"
      },
      "execution_count": null,
      "outputs": []
    },
    {
      "cell_type": "code",
      "source": [
        "# prompt: quero conversar com a ia\n",
        "\n",
        "def chat_com_diretor(prompt):\n",
        "\n",
        "\n",
        "    print(\"\\nRevisando a história...\")\n",
        "    texto_final = agente_diretor(prompt)\n",
        "    display(to_markdown(f\"**Revisão da história:**\\n{texto_final}\"))\n",
        "\n",
        "# Exemplo de uso:\n",
        "resposta_final = input(\"Digite aqui: \")\n",
        "while resposta_final != \"sair\":\n",
        "\n",
        "  chat_com_diretor(resposta_final)\n",
        "  resposta_final = input(\"Digite aqui: \")\n"
      ],
      "metadata": {
        "collapsed": true,
        "id": "gVtvtq2p-QBm"
      },
      "execution_count": null,
      "outputs": []
    }
  ]
}