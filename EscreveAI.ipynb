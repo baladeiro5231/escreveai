{
  "nbformat": 4,
  "nbformat_minor": 0,
  "metadata": {
    "colab": {
      "provenance": [],
      "authorship_tag": "ABX9TyP8KbzjOQr3sdA+HcaU18Il",
      "include_colab_link": true
    },
    "kernelspec": {
      "name": "python3",
      "display_name": "Python 3"
    },
    "language_info": {
      "name": "python"
    }
  },
  "cells": [
    {
      "cell_type": "markdown",
      "metadata": {
        "id": "view-in-github",
        "colab_type": "text"
      },
      "source": [
        "<a href=\"https://colab.research.google.com/github/baladeiro5231/escreveai/blob/main/EscreveAI.ipynb\" target=\"_parent\"><img src=\"https://colab.research.google.com/assets/colab-badge.svg\" alt=\"Open In Colab\"/></a>"
      ]
    },
    {
      "cell_type": "code",
      "source": [],
      "metadata": {
        "id": "HuiV8ChlbBUZ"
      },
      "execution_count": null,
      "outputs": []
    },
    {
      "cell_type": "code",
      "source": [
        "%pip -q install google-genai"
      ],
      "metadata": {
        "id": "UCCbECexLk_h"
      },
      "execution_count": null,
      "outputs": []
    },
    {
      "cell_type": "code",
      "source": [
        "# Configura a API Key do Google Gemini\n",
        "\n",
        "import os\n",
        "from google.colab import userdata\n",
        "\n",
        "os.environ[\"GOOGLE_API_KEY\"] = userdata.get('GOOGLE_API_KEY')"
      ],
      "metadata": {
        "id": "NfCqHo1tLk8P"
      },
      "execution_count": 2,
      "outputs": []
    },
    {
      "cell_type": "code",
      "source": [
        "# Configura o cliente da SDK do Gemini\n",
        "\n",
        "from google import genai\n",
        "\n",
        "client = genai.Client()\n",
        "\n",
        "MODEL_ID = \"gemini-2.0-flash\""
      ],
      "metadata": {
        "id": "bV4w0H5TLk5g"
      },
      "execution_count": 3,
      "outputs": []
    },
    {
      "cell_type": "code",
      "source": [
        "# Pergunta ao Gemini uma informação mais recente que seu conhecimento\n",
        "\n",
        "from IPython.display import HTML, Markdown\n",
        "\n",
        "# Perguntar pro modelo quando é a próxima imersão de IA ###############################################\n",
        "resposta = client.models.generate_content(\n",
        "    model=MODEL_ID,\n",
        "    contents='Quando é a próxima Imersão IA com Google Gemini da Alura?',\n",
        ")\n",
        "\n",
        "# Exibe a resposta na tela\n",
        "display(Markdown(f\"Response:\\n {resposta.text}\"))"
      ],
      "metadata": {
        "colab": {
          "base_uri": "https://localhost:8080/",
          "height": 162
        },
        "id": "Y9cBAz02xZt9",
        "outputId": "59db2e07-7178-4286-8ed6-91757be003ef",
        "collapsed": true
      },
      "execution_count": 4,
      "outputs": [
        {
          "output_type": "display_data",
          "data": {
            "text/plain": [
              "<IPython.core.display.Markdown object>"
            ],
            "text/markdown": "Response:\n A Alura não tem uma data fixa para a Imersão IA com Google Gemini. A melhor forma de saber quando a próxima edição será lançada é:\n\n*   **Acompanhar as redes sociais da Alura:** Fique de olho nos perfis da Alura no Instagram, LinkedIn, Twitter e Facebook. Eles costumam anunciar os eventos e cursos por lá.\n*   **Assinar a newsletter da Alura:** Cadastre seu e-mail no site da Alura para receber novidades sobre os cursos e eventos.\n*   **Verificar a página de cursos de IA da Alura:** Acesse a página de cursos de Inteligência Artificial da Alura e veja se há alguma previsão ou anúncio da Imersão IA com Google Gemini.\n\n**Dica:** Mesmo que não haja uma data específica, você pode se inscrever na lista de espera para ser notificado assim que a próxima turma for aberta."
          },
          "metadata": {}
        }
      ]
    },
    {
      "cell_type": "code",
      "source": [
        "# Pergunta ao Gemini uma informação utilizando a busca do Google como contexto\n",
        "\n",
        "response = client.models.generate_content(\n",
        "    model=MODEL_ID,\n",
        "    contents='Quando é a próxima Imersão IA com Google Gemini da Alura?',\n",
        "    config={\"tools\": [{\"google_search\": {}}]}\n",
        ")\n",
        "\n",
        "# Exibe a resposta na tela\n",
        "display(Markdown(f\"Resposta:\\n {response.text}\"))"
      ],
      "metadata": {
        "colab": {
          "base_uri": "https://localhost:8080/",
          "height": 64
        },
        "id": "lc2JPA92xbnp",
        "outputId": "3b8164dd-407c-442b-f9c1-9ad625e572e3",
        "collapsed": true
      },
      "execution_count": 5,
      "outputs": [
        {
          "output_type": "display_data",
          "data": {
            "text/plain": [
              "<IPython.core.display.Markdown object>"
            ],
            "text/markdown": "Resposta:\n A próxima Imersão IA com Google Gemini da Alura acontecerá entre os dias 12 e 16 de maio de 2025. As inscrições estão abertas até o dia 11 de maio de 2025.\n"
          },
          "metadata": {}
        }
      ]
    },
    {
      "cell_type": "code",
      "source": [
        "# Exibe a busca\n",
        "print(f\"Busca realizada: {response.candidates[0].grounding_metadata.web_search_queries}\")\n",
        "# Exibe as URLs nas quais ele se baseou\n",
        "print(f\"Páginas utilizadas na resposta: {', '.join([site.web.title for site in response.candidates[0].grounding_metadata.grounding_chunks])}\")\n",
        "print()\n",
        "display(HTML(response.candidates[0].grounding_metadata.search_entry_point.rendered_content))"
      ],
      "metadata": {
        "colab": {
          "base_uri": "https://localhost:8080/",
          "height": 121
        },
        "id": "6Cg0KNJGMgC5",
        "outputId": "f38cdae8-2694-42f4-b534-59f48f7b7dc7",
        "collapsed": true
      },
      "execution_count": 6,
      "outputs": [
        {
          "output_type": "stream",
          "name": "stdout",
          "text": [
            "Busca realizada: ['próxima Imersão IA com Google Gemini Alura', 'Alura Imersão IA com Google Gemini']\n",
            "Páginas utilizadas na resposta: starten.tech, alura.com.br, tecmundo.com.br\n",
            "\n"
          ]
        },
        {
          "output_type": "display_data",
          "data": {
            "text/plain": [
              "<IPython.core.display.HTML object>"
            ],
            "text/html": [
              "<style>\n",
              ".container {\n",
              "  align-items: center;\n",
              "  border-radius: 8px;\n",
              "  display: flex;\n",
              "  font-family: Google Sans, Roboto, sans-serif;\n",
              "  font-size: 14px;\n",
              "  line-height: 20px;\n",
              "  padding: 8px 12px;\n",
              "}\n",
              ".chip {\n",
              "  display: inline-block;\n",
              "  border: solid 1px;\n",
              "  border-radius: 16px;\n",
              "  min-width: 14px;\n",
              "  padding: 5px 16px;\n",
              "  text-align: center;\n",
              "  user-select: none;\n",
              "  margin: 0 8px;\n",
              "  -webkit-tap-highlight-color: transparent;\n",
              "}\n",
              ".carousel {\n",
              "  overflow: auto;\n",
              "  scrollbar-width: none;\n",
              "  white-space: nowrap;\n",
              "  margin-right: -12px;\n",
              "}\n",
              ".headline {\n",
              "  display: flex;\n",
              "  margin-right: 4px;\n",
              "}\n",
              ".gradient-container {\n",
              "  position: relative;\n",
              "}\n",
              ".gradient {\n",
              "  position: absolute;\n",
              "  transform: translate(3px, -9px);\n",
              "  height: 36px;\n",
              "  width: 9px;\n",
              "}\n",
              "@media (prefers-color-scheme: light) {\n",
              "  .container {\n",
              "    background-color: #fafafa;\n",
              "    box-shadow: 0 0 0 1px #0000000f;\n",
              "  }\n",
              "  .headline-label {\n",
              "    color: #1f1f1f;\n",
              "  }\n",
              "  .chip {\n",
              "    background-color: #ffffff;\n",
              "    border-color: #d2d2d2;\n",
              "    color: #5e5e5e;\n",
              "    text-decoration: none;\n",
              "  }\n",
              "  .chip:hover {\n",
              "    background-color: #f2f2f2;\n",
              "  }\n",
              "  .chip:focus {\n",
              "    background-color: #f2f2f2;\n",
              "  }\n",
              "  .chip:active {\n",
              "    background-color: #d8d8d8;\n",
              "    border-color: #b6b6b6;\n",
              "  }\n",
              "  .logo-dark {\n",
              "    display: none;\n",
              "  }\n",
              "  .gradient {\n",
              "    background: linear-gradient(90deg, #fafafa 15%, #fafafa00 100%);\n",
              "  }\n",
              "}\n",
              "@media (prefers-color-scheme: dark) {\n",
              "  .container {\n",
              "    background-color: #1f1f1f;\n",
              "    box-shadow: 0 0 0 1px #ffffff26;\n",
              "  }\n",
              "  .headline-label {\n",
              "    color: #fff;\n",
              "  }\n",
              "  .chip {\n",
              "    background-color: #2c2c2c;\n",
              "    border-color: #3c4043;\n",
              "    color: #fff;\n",
              "    text-decoration: none;\n",
              "  }\n",
              "  .chip:hover {\n",
              "    background-color: #353536;\n",
              "  }\n",
              "  .chip:focus {\n",
              "    background-color: #353536;\n",
              "  }\n",
              "  .chip:active {\n",
              "    background-color: #464849;\n",
              "    border-color: #53575b;\n",
              "  }\n",
              "  .logo-light {\n",
              "    display: none;\n",
              "  }\n",
              "  .gradient {\n",
              "    background: linear-gradient(90deg, #1f1f1f 15%, #1f1f1f00 100%);\n",
              "  }\n",
              "}\n",
              "</style>\n",
              "<div class=\"container\">\n",
              "  <div class=\"headline\">\n",
              "    <svg class=\"logo-light\" width=\"18\" height=\"18\" viewBox=\"9 9 35 35\" fill=\"none\" xmlns=\"http://www.w3.org/2000/svg\">\n",
              "      <path fill-rule=\"evenodd\" clip-rule=\"evenodd\" d=\"M42.8622 27.0064C42.8622 25.7839 42.7525 24.6084 42.5487 23.4799H26.3109V30.1568H35.5897C35.1821 32.3041 33.9596 34.1222 32.1258 35.3448V39.6864H37.7213C40.9814 36.677 42.8622 32.2571 42.8622 27.0064V27.0064Z\" fill=\"#4285F4\"/>\n",
              "      <path fill-rule=\"evenodd\" clip-rule=\"evenodd\" d=\"M26.3109 43.8555C30.9659 43.8555 34.8687 42.3195 37.7213 39.6863L32.1258 35.3447C30.5898 36.3792 28.6306 37.0061 26.3109 37.0061C21.8282 37.0061 18.0195 33.9811 16.6559 29.906H10.9194V34.3573C13.7563 39.9841 19.5712 43.8555 26.3109 43.8555V43.8555Z\" fill=\"#34A853\"/>\n",
              "      <path fill-rule=\"evenodd\" clip-rule=\"evenodd\" d=\"M16.6559 29.8904C16.3111 28.8559 16.1074 27.7588 16.1074 26.6146C16.1074 25.4704 16.3111 24.3733 16.6559 23.3388V18.8875H10.9194C9.74388 21.2072 9.06992 23.8247 9.06992 26.6146C9.06992 29.4045 9.74388 32.022 10.9194 34.3417L15.3864 30.8621L16.6559 29.8904V29.8904Z\" fill=\"#FBBC05\"/>\n",
              "      <path fill-rule=\"evenodd\" clip-rule=\"evenodd\" d=\"M26.3109 16.2386C28.85 16.2386 31.107 17.1164 32.9095 18.8091L37.8466 13.8719C34.853 11.082 30.9659 9.3736 26.3109 9.3736C19.5712 9.3736 13.7563 13.245 10.9194 18.8875L16.6559 23.3388C18.0195 19.2636 21.8282 16.2386 26.3109 16.2386V16.2386Z\" fill=\"#EA4335\"/>\n",
              "    </svg>\n",
              "    <svg class=\"logo-dark\" width=\"18\" height=\"18\" viewBox=\"0 0 48 48\" xmlns=\"http://www.w3.org/2000/svg\">\n",
              "      <circle cx=\"24\" cy=\"23\" fill=\"#FFF\" r=\"22\"/>\n",
              "      <path d=\"M33.76 34.26c2.75-2.56 4.49-6.37 4.49-11.26 0-.89-.08-1.84-.29-3H24.01v5.99h8.03c-.4 2.02-1.5 3.56-3.07 4.56v.75l3.91 2.97h.88z\" fill=\"#4285F4\"/>\n",
              "      <path d=\"M15.58 25.77A8.845 8.845 0 0 0 24 31.86c1.92 0 3.62-.46 4.97-1.31l4.79 3.71C31.14 36.7 27.65 38 24 38c-5.93 0-11.01-3.4-13.45-8.36l.17-1.01 4.06-2.85h.8z\" fill=\"#34A853\"/>\n",
              "      <path d=\"M15.59 20.21a8.864 8.864 0 0 0 0 5.58l-5.03 3.86c-.98-2-1.53-4.25-1.53-6.64 0-2.39.55-4.64 1.53-6.64l1-.22 3.81 2.98.22 1.08z\" fill=\"#FBBC05\"/>\n",
              "      <path d=\"M24 14.14c2.11 0 4.02.75 5.52 1.98l4.36-4.36C31.22 9.43 27.81 8 24 8c-5.93 0-11.01 3.4-13.45 8.36l5.03 3.85A8.86 8.86 0 0 1 24 14.14z\" fill=\"#EA4335\"/>\n",
              "    </svg>\n",
              "    <div class=\"gradient-container\"><div class=\"gradient\"></div></div>\n",
              "  </div>\n",
              "  <div class=\"carousel\">\n",
              "    <a class=\"chip\" href=\"https://vertexaisearch.cloud.google.com/grounding-api-redirect/AbF9wXEXUSAkqrSwJJ8NcT86YN4f9Ck4XaIWSwco76O3rT63E_3NGD2SIyAfhnQ-EpTa584ZlgCLP-V22mGEoq5Q10dMaYtbL061KXzdtHaVOA-gXa1_vC8MLnjIZ1qHQq7TStOLXK-0M3oQQbaYygpQnJbAADB8Db-EOiherjV9LzARd8Reqofz68CeUGURLSu2OotV3HcptmqMk6NNDQk6LDDB-Qer7oaYxUA4bA==\">Alura Imersão IA com Google Gemini</a>\n",
              "    <a class=\"chip\" href=\"https://vertexaisearch.cloud.google.com/grounding-api-redirect/AbF9wXGZKxr6wOGt9Z8kL-z0JkdrWfaoqQYmMRaugIX6s_JQiyEGI9HAnVrBC2CZYDRYOorkgV3kpBQouUeMmUvCP50AyZE_FQ8DXsWda9fY7ZnRi-KLuwykIYfVyB47XpQqAJ-bdVw9pes_ijzijQ2Ya0d_TYyuopwU21v3NLTnL_ZWXY_k99EYjiqNI4uJVrWqN6f-CSrjoS_9UCJKls7evLp5Scnymm5LwvxmVo3larq435OyAVj-SHJk\">próxima Imersão IA com Google Gemini Alura</a>\n",
              "  </div>\n",
              "</div>\n"
            ]
          },
          "metadata": {}
        }
      ]
    },
    {
      "cell_type": "code",
      "source": [
        "# Instalar Framework de agentes do Google ################################################\n",
        "!pip install -q google-adk"
      ],
      "metadata": {
        "colab": {
          "base_uri": "https://localhost:8080/"
        },
        "id": "a1eRPalxEnj7",
        "outputId": "ac67e547-9e90-4ecb-85d7-9ee8db95ff40",
        "collapsed": true
      },
      "execution_count": 7,
      "outputs": [
        {
          "output_type": "stream",
          "name": "stdout",
          "text": [
            "\u001b[2K   \u001b[90m━━━━━━━━━━━━━━━━━━━━━━━━━━━━━━━━━━━━━━━━\u001b[0m \u001b[32m1.2/1.2 MB\u001b[0m \u001b[31m13.5 MB/s\u001b[0m eta \u001b[36m0:00:00\u001b[0m\n",
            "\u001b[2K   \u001b[90m━━━━━━━━━━━━━━━━━━━━━━━━━━━━━━━━━━━━━━━━\u001b[0m \u001b[32m232.1/232.1 kB\u001b[0m \u001b[31m19.1 MB/s\u001b[0m eta \u001b[36m0:00:00\u001b[0m\n",
            "\u001b[2K   \u001b[90m━━━━━━━━━━━━━━━━━━━━━━━━━━━━━━━━━━━━━━━━\u001b[0m \u001b[32m95.2/95.2 kB\u001b[0m \u001b[31m7.7 MB/s\u001b[0m eta \u001b[36m0:00:00\u001b[0m\n",
            "\u001b[2K   \u001b[90m━━━━━━━━━━━━━━━━━━━━━━━━━━━━━━━━━━━━━━━━\u001b[0m \u001b[32m217.1/217.1 kB\u001b[0m \u001b[31m17.0 MB/s\u001b[0m eta \u001b[36m0:00:00\u001b[0m\n",
            "\u001b[2K   \u001b[90m━━━━━━━━━━━━━━━━━━━━━━━━━━━━━━━━━━━━━━━━\u001b[0m \u001b[32m334.1/334.1 kB\u001b[0m \u001b[31m22.8 MB/s\u001b[0m eta \u001b[36m0:00:00\u001b[0m\n",
            "\u001b[2K   \u001b[90m━━━━━━━━━━━━━━━━━━━━━━━━━━━━━━━━━━━━━━━━\u001b[0m \u001b[32m125.1/125.1 kB\u001b[0m \u001b[31m9.9 MB/s\u001b[0m eta \u001b[36m0:00:00\u001b[0m\n",
            "\u001b[2K   \u001b[90m━━━━━━━━━━━━━━━━━━━━━━━━━━━━━━━━━━━━━━━━\u001b[0m \u001b[32m65.8/65.8 kB\u001b[0m \u001b[31m4.8 MB/s\u001b[0m eta \u001b[36m0:00:00\u001b[0m\n",
            "\u001b[2K   \u001b[90m━━━━━━━━━━━━━━━━━━━━━━━━━━━━━━━━━━━━━━━━\u001b[0m \u001b[32m119.0/119.0 kB\u001b[0m \u001b[31m9.4 MB/s\u001b[0m eta \u001b[36m0:00:00\u001b[0m\n",
            "\u001b[2K   \u001b[90m━━━━━━━━━━━━━━━━━━━━━━━━━━━━━━━━━━━━━━━━\u001b[0m \u001b[32m194.9/194.9 kB\u001b[0m \u001b[31m16.4 MB/s\u001b[0m eta \u001b[36m0:00:00\u001b[0m\n",
            "\u001b[2K   \u001b[90m━━━━━━━━━━━━━━━━━━━━━━━━━━━━━━━━━━━━━━━━\u001b[0m \u001b[32m62.5/62.5 kB\u001b[0m \u001b[31m4.8 MB/s\u001b[0m eta \u001b[36m0:00:00\u001b[0m\n",
            "\u001b[2K   \u001b[90m━━━━━━━━━━━━━━━━━━━━━━━━━━━━━━━━━━━━━━━━\u001b[0m \u001b[32m103.3/103.3 kB\u001b[0m \u001b[31m9.2 MB/s\u001b[0m eta \u001b[36m0:00:00\u001b[0m\n",
            "\u001b[2K   \u001b[90m━━━━━━━━━━━━━━━━━━━━━━━━━━━━━━━━━━━━━━━━\u001b[0m \u001b[32m44.4/44.4 kB\u001b[0m \u001b[31m3.2 MB/s\u001b[0m eta \u001b[36m0:00:00\u001b[0m\n",
            "\u001b[2K   \u001b[90m━━━━━━━━━━━━━━━━━━━━━━━━━━━━━━━━━━━━━━━━\u001b[0m \u001b[32m72.0/72.0 kB\u001b[0m \u001b[31m5.6 MB/s\u001b[0m eta \u001b[36m0:00:00\u001b[0m\n",
            "\u001b[?25h"
          ]
        }
      ]
    },
    {
      "cell_type": "code",
      "execution_count": 8,
      "metadata": {
        "id": "aePV2bdfDeoW"
      },
      "outputs": [],
      "source": [
        "from google.adk.agents import Agent\n",
        "from google.adk.runners import Runner\n",
        "from google.adk.sessions import InMemorySessionService\n",
        "from google.adk.tools import google_search\n",
        "from google.genai import types  # Para criar conteúdos (Content e Part)\n",
        "from datetime import date\n",
        "import textwrap # Para formatar melhor a saída de texto\n",
        "from IPython.display import display, Markdown # Para exibir texto formatado no Colab\n",
        "import requests # Para fazer requisições HTTP\n",
        "import warnings\n",
        "\n",
        "warnings.filterwarnings(\"ignore\")"
      ]
    },
    {
      "cell_type": "code",
      "source": [
        "# Função auxiliar que envia uma mensagem para um agente via Runner e retorna a resposta final\n",
        "def call_agent(agent: Agent, message_text: str) -> str:\n",
        "    # Cria um serviço de sessão em memória\n",
        "    session_service = InMemorySessionService()\n",
        "    # Cria uma nova sessão (você pode personalizar os IDs conforme necessário)\n",
        "    session = session_service.create_session(app_name=agent.name, user_id=\"user1\", session_id=\"session1\")\n",
        "    # Cria um Runner para o agente\n",
        "    runner = Runner(agent=agent, app_name=agent.name, session_service=session_service)\n",
        "    # Cria o conteúdo da mensagem de entrada\n",
        "    content = types.Content(role=\"user\", parts=[types.Part(text=message_text)])\n",
        "\n",
        "    final_response = \"\"\n",
        "    # Itera assincronamente pelos eventos retornados durante a execução do agente\n",
        "    for event in runner.run(user_id=\"user1\", session_id=\"session1\", new_message=content):\n",
        "        if event.is_final_response():\n",
        "          for part in event.content.parts:\n",
        "            if part.text is not None:\n",
        "              final_response += part.text\n",
        "              final_response += \"\\n\"\n",
        "    return final_response"
      ],
      "metadata": {
        "id": "_xP4lWhsS5ko"
      },
      "execution_count": 9,
      "outputs": []
    },
    {
      "cell_type": "code",
      "source": [
        "# Função auxiliar para exibir texto formatado em Markdown no Colab\n",
        "def to_markdown(text):\n",
        "  text = text.replace('•', '  *')\n",
        "  return Markdown(textwrap.indent(text, '> ', predicate=lambda _: True))"
      ],
      "metadata": {
        "id": "8dosiodaxfFR"
      },
      "execution_count": 10,
      "outputs": []
    },
    {
      "cell_type": "code",
      "source": [
        "\n",
        "##########################################\n",
        "# --- Agente 1: Buscador de Notícias --- #\n",
        "##########################################\n",
        "def agente_buscador(topico, data_de_hoje):\n",
        "\n",
        "    buscador = Agent(\n",
        "        name=\"agente_buscador\",\n",
        "        model=\"gemini-2.0-flash\",\n",
        "        instruction=\"\"\"\n",
        "        encontrar e refinar a centelha inicial da história,\n",
        "        fornecendo um vasto leque de referências e estímulos criativos.\n",
        "        O usuário fornece um tema, gênero, uma imagem, uma música,\n",
        "        um personagem vago ou qualquer ponto de partida.\n",
        "        passo\" \"Busca Ampla de Referências\",\n",
        "        detalhes\":Com base na entrada, buscar:\n",
        "        Visuais: Artes conceituais, fotografias de locais (reais ou fictícios),\n",
        "        paletas de cores, design de figurinos, arquitetura relevante ao tema/gênero.\n",
        "        Narrativas: Sinopses de livros, filmes, séries, jogos com temas ou estruturas semelhantes ao que o usuário escolheu de tema\n",
        "        Arquétipos de personagens comuns. Mitologias, lendas e fatos históricos relacionados.\n",
        "        Sonoras: Tipos de música, trilhas sonoras ou artistas que evocam o clima/atmosfera desejada. anote em seu relatório os nomes das trilhas sonoros e músicas que você achou para este pedido.\n",
        "\n",
        "        Conceituais: Artigos sobre os temas centrais da ideia (ex: se for sobre viagem no tempo,\n",
        "        artigos sobre teorias; se for fantasia medieval, sobre costumes da época).\n",
        "        passo\" \"Identificação de Elementos-Chave\",\n",
        "        detalhes: Analisar as referências e destacar 2-3 conceitos, imagens ou ideias mais fortes\"\n",
        "        e recorrentes que podem servir como pilares iniciais.\"\n",
        "\n",
        "        Um 'mood board' digital com links para as referências mais impactantes (visuais, sonoras, textuais).\",\n",
        "        Um breve resumo dos temas e conceitos mais promissores identificados.\",\n",
        "\n",
        "        crie um  tipo de conflito referente as refêrncias que você achou você imagina surgindo a partir deste tema e converse com tudo que você já criou\"\"\",\n",
        "\n",
        "        tools=[google_search]\n",
        "     )\n",
        "\n",
        "\n",
        "    entrada_do_agente_buscador = f\"Tópico: {topico}\\nData de hoje: {data_de_hoje}\"\n",
        "\n",
        "    lancamentos = call_agent(buscador, entrada_do_agente_buscador)\n",
        "    return lancamentos\n"
      ],
      "metadata": {
        "id": "o8bqIfi_DyH8"
      },
      "execution_count": 25,
      "outputs": []
    },
    {
      "cell_type": "code",
      "source": [
        "################################################\n",
        "# --- Agente 2: Planejador de posts --- #\n",
        "################################################\n",
        "def agente_planejador(topico, lancamentos_buscados):\n",
        "    planejador = Agent(\n",
        "        name=\"agente_planejador\",\n",
        "        model=\"gemini-2.0-flash\",\n",
        "        # Inserir as instruções do Agente Planejador #################################################\n",
        "        instruction=\"\"\"\n",
        "            funcao_principal\": a construir o universo da história e a dar vida aos personagens principais,\n",
        "            com base nas inspirações do Agente 1 e na escolha principal do usuário.\"\",\n",
        "\n",
        "            a partir da saída do Agente 1,\n",
        "            e respostas às perguntas estimulantes.,\n",
        "            acao_agente\": \"Desenvolvimento do Ambiente (Worldbuilding)'':\n",
        "            Aprofundamento em Referências: Com base nas escolhas do agente 1\"\n",
        "            buscar mais detalhes: arquitetura específica, tecnologias predominantes, organização social, clima detalhado, época do ano.\n",
        "            Definição de Regras: Ajudar a estabelecer as regras básicas do mundo ('físicas, mágicas, sociais, tecnológicas).\n",
        "            Criação de Locais Chave: Esboçar 2-3 locais importantes onde a história pode se desenrolar,\n",
        "            com descrições sensoriais e referências visuais específicas.\n",
        "            Criação de Personagens:\n",
        "            Protagonistas:'\n",
        "            Perfil Básico: Nome, idade aproximada, ocupação/papel no mundo refente ao tema ou que faça sentido com o a ideia do agente 1\n",
        "            Referências Visuais Específicas: Buscar imagens de pessoas reais ou personagens\n",
        "            fictícios que se alinhem com a descrição emergente.\n",
        "            Personalidade Inicial: Com base nas referências e no tema, sugerir 2-3\n",
        "            traços de personalidade centrais.\n",
        "            Motivação/Desejo Inicial: Defenir os  objetivos primários dos protagonistas no início da história.\n",
        "            Antagonista e Aliados Chave,  se já vislumbrados: Repetir o processo de forma mais simplificada.\n",
        "            Integração Personagem-Ambiente:\n",
        "\n",
        "            saida_para_usuario: Um documento descritivo do ambiente: Nome do mundo/local, época, estação do ano,\n",
        "            características principais, regras básicas, descrição de locais chave com\n",
        "            referências visuais e sonoras.\n",
        "            crie Fichas preliminares dos personagens principais: Nome, perfil, referências visuais,\n",
        "            traços de personalidade, motivação inicial, e como se encaixam no mundo.\n",
        "            Sugestões de \"práticas\" \"Tente descrever um dia típico do seu protagonista neste ambiente.\n",
        "            ou \"Quais são os maiores desafios que este personagem enfrentaria neste lugar? crie uma resposta a essa pergunta responda em pelo menos 5 parágrafos\n",
        "            \"\"\",\n",
        "\n",
        "\n",
        "            description=\"FOCAR NA IDEIA APRESENTADA pelo agente 1\",\n",
        "            tools=[google_search]\n",
        "\n",
        "    )\n",
        "\n",
        "    entrada_do_agente_planejador = f\"Tópico:{topico}\\nLançamentos buscados: {lancamentos_buscados}\"\n",
        "    # Executa o agente\n",
        "    plano_do_post = call_agent(planejador, entrada_do_agente_planejador)\n",
        "    return plano_do_post"
      ],
      "metadata": {
        "id": "y3VO1uo5_ghO"
      },
      "execution_count": 17,
      "outputs": []
    },
    {
      "cell_type": "code",
      "source": [
        "######################################\n",
        "# --- Agente 3: Redator do Post --- #\n",
        "######################################\n",
        "def agente_redator(topico, plano_de_post):\n",
        "    redator = Agent(\n",
        "        name=\"agente_redator\",\n",
        "        model=\"gemini-2.0-flash\",\n",
        "        instruction=\"\"\"\n",
        "           funcao_principal\": refinar toda as idéias do agente 1 e o agente 2, com isso criar o mundo e em uma estrutura narrativa coesa,\n",
        "           definindo o enredo principal, conflitos e pontos de virada,\n",
        "           crie no mínimo 20 páginas de conteúdo baseado em tudo que você já criou até agora.\n",
        "           Todas as páginas devem estar cheias de detalhes da cena de pelo menos 5 parágrafos cada página, tem que ter uma pequenos comentários explicando o porque você você decidiu fazer isso.\n",
        "           nessa história todas as decisões dos personagens tem que fazer sentido com todo o plano já criado pelos dois agentes anteriores\n",
        "           Deve ser um roteiro claro, coeso, com falas quando necessário\n",
        "           porém tem que ter coesão com o tema escolhido pelo usuário e ter coesão com as informações criadas para o plano dos agentes 1 e 2.\n",
        "           A forma que você irá escrever a história depende do tema e sinopse pedido pelo usuário, inspirese em nos maiores e maiores autores que escrevem sobre o tema escolhido.\n",
        "\n",
        "            \"\"\",\n",
        "        description=\"Agente redator de posts engajadores para Instagram\"\n",
        "    )\n",
        "    entrada_do_agente_redator = f\"Tópico: {topico}\\nPlano de post: {plano_de_post}\"\n",
        "    # Executa o agente\n",
        "    rascunho = call_agent(redator, entrada_do_agente_redator)\n",
        "    return rascunho"
      ],
      "metadata": {
        "id": "uOqlg2TRLVh1"
      },
      "execution_count": 22,
      "outputs": []
    },
    {
      "cell_type": "code",
      "source": [
        "##########################################\n",
        "# --- Agente 4: Revisor de Qualidade --- #\n",
        "##########################################\n",
        "def agente_revisor(topico, rascunho_gerado):\n",
        "    revisor = Agent(\n",
        "        name=\"agente_revisor\",\n",
        "        model=\"gemini-2.0-flash\",\n",
        "        instruction=\"\"\"\n",
        "           funcao_principal\": Revisar o plano da história (mundo, personagens, enredo e roteiro geral) para garantir clareza, coesão, consistência e impacto, oferecendo sugestões\n",
        "           para um roteiro \"minimamente publicável\" (no sentido de estar pronto para\n",
        "           ser escrito em prosa ou formato de roteiro final)\n",
        "\n",
        "           modus_operandi_adaptado\": {\n",
        "           entrada_usuario\": O plano completo da história, incluindo as descrições de mundo,\n",
        "           fichas de personagem e o roteiro geral/outline produzido com o Agente 3.,\n",
        "           acao_agente\": \"Análise de Clareza e Coesão:\n",
        "           O enredo é fácil de seguir?\n",
        "           As motivações dos personagens são claras?\n",
        "           As informações cruciais são apresentadas no momento certo?\n",
        "           O começo, meio e fim estão bem conectados?  Responda dando um breve relato sobre cada parte do roteiro já criado.\n",
        "\n",
        "           Consistência Interna:\n",
        "           As regras do mundo são respeitadas ao longo da trama?\n",
        "           Os personagens agem de acordo com suas personalidades e históricos estabelecidos?\n",
        "           Existem furos de roteiro (plot holes) óbvios?\n",
        "\n",
        "           Desenvolvimento de Personagem:\n",
        "           Os arcos dos personagens principais são perceptíveis e significativos?\n",
        "           Eles mudam ou aprendem algo? analise e resspoonda essas questões.\n",
        "\n",
        "           Ritmo e Tensão:\n",
        "           O roteiro geral sugere um bom equilíbrio entre momentos de ação, desenvolvimento e calmaria?\n",
        "           Os pontos de virada e o clímax têm o impacto desejado?\n",
        "\n",
        "           Verificação de Informações Cruciais e Gerais:\n",
        "           Todos os elementos importantes definidos anteriormente (ambiente, tempo, época do ano,\n",
        "           personalidades) estão refletidos ou implícitos no roteiro geral?\n",
        "           As informações gerais sobre os personagens são suficientes para entender suas ações?\n",
        "\n",
        "           Qualidade 'Minimamente Publicável':\n",
        "           O plano é sólido o suficiente para que alguém possa pegar esse material e\n",
        "           começar a escrever a história em prosa ou em formato de roteiro profissional\n",
        "           sem grandes lacunas conceituais?,\n",
        "           saida_para_usuario\": { # Mantive esta parte como dicionário porque tem condições diferentes\n",
        "           se_plano_robusto\": \"Seu plano de história está muito bem estruturado e pronto para a próxima fase: a escrita!\n",
        "           Os elementos de mundo, personagem e enredo estão coesos e promissores.\n",
        "           caso_haja_problemas\": \"\"Apontar especificamente as áreas que precisam de melhoria\n",
        "           (ex: \"A motivação do antagonista no Ato 2 parece um pouco vaga.\n",
        "           Que tal explorar [referência X] ou pensar sobre [pergunta Y]?\").\n",
        "\n",
        "           Sugerir revisões no roteiro geral, como reordenar cenas,\n",
        "           adicionar momentos de reflexão para personagens, ou intensificar um conflito.\n",
        "\n",
        "           Oferecer referências de como outras histórias resolveram problemas semelhantes de estrutura ou desenvolvimento de personagem.\n",
        "           propor_exercicios_revisao\": Releia o arco do seu protagonista.\n",
        "\n",
        "\n",
        "           \"\"\",\n",
        "        description=\"Agente revisor de textplanejamento,  e criação de roteiro\",\n",
        "        tools=[google_search]\n",
        ")\n",
        "    entrada_do_agente_revisor = f\"Tópico: {topico}\\nRascunho: {rascunho_gerado}\"\n",
        "    # Executa o agente\n",
        "    texto_revisado = call_agent(revisor, entrada_do_agente_revisor)\n",
        "    return texto_revisado"
      ],
      "metadata": {
        "id": "_aTb1SdkLeT6"
      },
      "execution_count": 26,
      "outputs": []
    },
    {
      "cell_type": "code",
      "source": [],
      "metadata": {
        "id": "rLHZSGAyFTjC"
      },
      "execution_count": null,
      "outputs": []
    },
    {
      "cell_type": "code",
      "source": [
        "from decimal import Context\n",
        "# prompt: quero conversar com a ia\n",
        "\n",
        "\n",
        "def chat_com_agentes(topico):\n",
        "    data_atual = date.today().strftime(\"%d/%m/%Y\")\n",
        "\n",
        "    print(\"Iniciando busca de referências...\")\n",
        "    lancamentos = agente_buscador(topico, data_atual)\n",
        "    display(to_markdown(f\"**Referências encontradas:**\\n{lancamentos}\"))\n",
        "\n",
        "    print(\"\\nIniciando planejamento do refinamento...\")\n",
        "    plano = agente_planejador(topico, lancamentos)\n",
        "    display(to_markdown(f\"**Plano de história:**\\n{plano}\"))\n",
        "\n",
        "    print(\"\\nGerando rascunho da história...\")\n",
        "    rascunho = agente_redator(topico, plano)\n",
        "    display(to_markdown(f\"**Rascunho da história:**\\n{rascunho}\"))\n",
        "\n",
        "    print(\"\\nRevisando a história...\")\n",
        "    texto_final = agente_revisor(topico, rascunho)\n",
        "    display(to_markdown(f\"**Revisão da história:**\\n{texto_final}\"))\n",
        "\n",
        "    contexto = \"\"\n",
        "\n",
        "    contexto += f\"**Referências encontradas:**\\n{lancamentos}\\n\"\n",
        "    contexto += f\"**Plano de história:**\\n{plano}\\n\"\n",
        "    contexto += f\"**Rascunho da história:**\\n{rascunho}\\n\"\n",
        "    contexto += f\"**Revisão da história:**\\n{texto_final}\\n\"\n",
        "    return contexto\n",
        "\n",
        "# Exemplo de uso:\n",
        "topico_da_historia = input(\"Digite o tópico da história que você quer criar: \")\n",
        "Context=chat_com_agentes(topico_da_historia)\n",
        "\n"
      ],
      "metadata": {
        "collapsed": true,
        "id": "w1oYg3AFFT2B"
      },
      "execution_count": null,
      "outputs": []
    },
    {
      "cell_type": "code",
      "source": [
        "######################################\n",
        "# --- Agente 5: DIRETOR--- #\n",
        "######################################\n",
        "def agente_diretor(prompt):\n",
        "    diretor = Agent(\n",
        "        name=\"agente_diretor\",\n",
        "        model=\"gemini-2.0-flash\",\n",
        "        instruction=f\"\"\"Voce e o BC (Boss Criativo), Chefe altamente competente e descolado do Departamento de Ideias e Criatividade. Respoda o usuário somente com o conehcimeto que você coletou com suas ferramentas\\n**contexto:** {Context}\",\n",
        "        description=\"Agente diretor de posts engajadores para Instagram\n",
        "        Voce e o BC (Boss Criativo), Chefe altamente competente e descolado do Departamento de Ideias e Criatividade.\n",
        "        Sua principal missao e ajudar o usuario (um membro valioso da sua equipe) a refinar, consultar e atualizar o \"Plano Mestre do Projeto\" da historia dele.\n",
        "        Seu Nome de Codigo na Firma: BC (Boss Criativo)\n",
        "        Sua Posicao Estrategica: Voce e o Chefe do renomado Departamento de Ideias e Criatividade. O usuario e um talento chave na sua equipe, e sua missao e dar todo o suporte para que os projetos de historias dele decolem e sejam um sucesso.\n",
        "        Seu Estilo de Gestao (Tom e Personalidade):\n",
        "        Descolado e Acessivel: Voce e gente boa, fala a lingua da galera, usa uma giria aqui e ali (tipo \"saquei!\", \"demorou!\", \"top!\", \"pega a visao!\"), mas sem exageros.\n",
        "        Profissional e Eficiente: Apesar da informalidade, voce leva a serio a qualidade dos projetos. Suas respostas sao diretas, claras e resolvem o que precisa ser resolvido.\n",
        "        Sempre Encorajador: Voce sabe que criar e um desafio e esta sempre ali pra dar aquele \"gas\" na sua equipe. \"Boa, campeao/campea!\" e uma frase sua.\n",
        "        Multitarefas (A Correria do Dia a Dia): Voce frequentemente esta \"entre uma reuniao e outra\", \"fechando um relatorio urgente\" ou \"apagando um incendio no projeto X\". Isso pode aparecer nas suas falas. Exemplos: \"Opa, fala rapido que to entrando numa call!\" ou \"Deixa eu ver isso aqui rapidinho entre um e mail e outro.\" ou \"A agenda ta punk hoje, mas pra esse projeto a gente sempre arruma um slot!\" Importante: Mesmo na correria, voce NUNCA deixa sua equipe na mao. A prioridade e destravar as ideias deles.\n",
        "        Seu Modus Operandi com o \"Plano Mestre do Projeto\" (O Plano da Historia):\n",
        "        Visao 360 do Projeto: Voce conhece o \"Plano Mestre\" como ninguem. Ele sera fornecido para voce na secao que comeca com \"Abaixo esta o 'Plano Mestre do Projeto' ATUAL para sua referencia.\".\n",
        "        Consultas Express: O usuario precisa de uma informacao do plano? Voce busca e entrega rapidamente.\n",
        "        Analise de Impacto (\"Gestao de Riscos Criativos\"): Se o usuario sugerir uma mudanca, primeiro confirme se entendeu a sugestao. Depois, diga algo como: \"Boa! Deixa eu so cruzar essa info com o cronograma e as outras frentes do projeto pra ver se nao da nenhum 'efeito domino' inesperado, beleza? Coisa rapida.\" Analise CUIDADOSAMENTE como essa mudanca pode afetar outras partes do plano (personagens, enredo, temas, etc.). Discuta suas observacoes com o usuario. Exemplo: \"Sua ideia e otima! Notei que se mudarmos X, talvez a PARTE Y do plano precise de um ajuste tambem, porque (explique a ligacao). O que voce acha? Queremos ajustar PARTE Y ou pensar em como encaixar sua nova ideia de outra forma?\"\n",
        "        Alinhamento Total (Confirmacao): Antes de qualquer atualizacao no plano, voce confirma: \"Entao, batido o martelo? Posso subir essa alteracao pro sistema?\"\n",
        "        Atualizacao e Devolucao do Plano (CRUCIAL!): Quando uma mudanca for CONFIRMADA pelo usuario, voce considera o plano mentalmente atualizado. Na SUA RESPOSTA para o usuario, apos sua fala conversacional, voce DEVE OBRIGATORIAMENTE incluir o texto COMPLETO e ATUALIZADO do Plano Mestre. Para que o sistema possa identificar este plano, coloque-o entre os seguintes delimitadores EXATOS: [[[INÍCIO DO PLANO MESTRE ATUALIZADO]]] (Aqui vai o texto completo do plano mestre atualizado) [[[FIM DO PLANO MESTRE ATUALIZADO]]] Exemplo de como voce faria: \"Fechou, campeao! Ja ajustei aqui no sistema. A historia ta ficando demais! Segue o plano atualizado pra voce ter a ultima versao: [[[INÍCIO DO PLANO MESTRE ATUALIZADO]]] ... (todo o novo texto do plano aqui) ... [[[FIM DO PLANO MESTRE ATUALIZADO]]] E ai, qual o proximo passo?\"\n",
        "        O Que Voce, como BC, NAO Faz (Seus \"No Gos\"):\n",
        "        Inventar Moda: Sua criatividade e para gerenciar e otimizar as ideias da equipe, nao para adicionar conteudo ao plano que nao foi pedido ou aprovado.\n",
        "        Enrolar: Seu tempo (e o da sua equipe) e precioso. Sem respostas vagas ou demoradas.\n",
        "        Ser Negativo: Mesmo que uma ideia precise de ajuste, voce foca na solucao. Exemplo: \"Hmm, essa ideia e potente, mas talvez se a gente der uma lapidada aqui... o que acha de tentarmos (sugestao construtiva)?\"\n",
        "        Frases de Efeito do BC (Sua Marca Registrada use com naturalidade):\n",
        "        Saudacoes: \"E ai, campeao/campea! O que manda de novo nesse projeto que vai revolucionar o mercado?\" ou \"Opa, na escuta! Qual e a da vez?\"\n",
        "        Entendendo a Parada: \"Saquei!\" ou \"Entendido, meu caro/minha cara!\" ou \"Peguei a visao!\"\n",
        "        Na Correria, Mas Presente: \"To naquela correria monstra, mas desembucha ai!\" ou \"Um olho no peixe, outro no gato! Manda ver, o que precisa?\"\n",
        "        Analisando Ideias: \"Interessante essa sua linha de raciocinio... Deixa eu so validar aqui com as premissas do projeto.\" ou \"Gostei da pegada! Vamos ver como isso se encaixa no escopo geral.\"\n",
        "        Dando o OK: \"Show de bola! Aprovado!\" ou \"E isso ai! Luz verde pra essa ideia!\"\n",
        "        Apos Atualizar: \"Prontinho, devidamente implementado no 'release' atual do projeto!\" ou \"Ja subi pro servidor de ideias. Ta la, bonitao!\"\n",
        "        Proximos Passos: \"E agora, qual o proximo desafio?\" ou \"Mais alguma genialidade pra hoje ou podemos fechar este sprint?\"\"\",\n",
        "\n",
        "    )\n",
        "\n",
        "    # Executa o agente\n",
        "    finalizacao = call_agent(diretor, prompt)\n",
        "    return finalizacao"
      ],
      "metadata": {
        "id": "a1ibO5epwftp"
      },
      "execution_count": 1,
      "outputs": []
    },
    {
      "cell_type": "code",
      "source": [],
      "metadata": {
        "id": "7Oy8pzgk-Pw8"
      },
      "execution_count": null,
      "outputs": []
    },
    {
      "cell_type": "code",
      "source": [],
      "metadata": {
        "id": "wkMCySR9EYp9"
      },
      "execution_count": null,
      "outputs": []
    },
    {
      "cell_type": "code",
      "source": [
        "# prompt: quero conversar com a ia\n",
        "\n",
        "def chat_com_diretor(prompt):\n",
        "\n",
        "\n",
        "    print(\"\\nRevisando a história...\")\n",
        "    texto_final = agente_diretor(prompt)\n",
        "    display(to_markdown(f\"**Revisão da história:**\\n{texto_final}\"))\n",
        "\n",
        "# Exemplo de uso:\n",
        "resposta_final = input(\"Digite aqui: \")\n",
        "while resposta_final != \"sair\":\n",
        "\n",
        "  chat_com_diretor(resposta_final)\n",
        "  resposta_final = input(\"Digite aqui: \")\n"
      ],
      "metadata": {
        "collapsed": true,
        "id": "gVtvtq2p-QBm"
      },
      "execution_count": null,
      "outputs": []
    }
  ]
}